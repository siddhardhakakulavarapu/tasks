{
 "cells": [
  {
   "cell_type": "markdown",
   "id": "8060b9a4",
   "metadata": {},
   "source": [
    "**while loops and their use in programming.**\n",
    "1. Write a Python program that uses a while loop to print the numbers from `A` to `P`.\n",
    "\n",
    "2. Modify the program to print only the even numbers from `1 to 20 except mutiple of 3` using a while loop.\n",
    "\n",
    "3. Create a program that prompts the user for an integer input and then uses a while loop to print the countdown from `that number to 1`.\n",
    "\n",
    "\n",
    "4. Write a Python program that uses a while loop to repeatedly ask the user to enter a number. If the user enters 0, exit the loop using the `break` statement. Otherwise, continue prompting for numbers.\n",
    "\n",
    "5. Create a program that uses a while loop to print the numbers from 1 to 20, but skip printing the numbers 5, 10, and 15 using the `continue` statement.\n",
    "\n",
    "6. Write a Python program that simulates a simple password entry system. Ask the user to enter a password, and use a while loop to repeatedly prompt for the password until the correct password \"abc123\" is entered. Once the correct password is entered, exit the loop.\n",
    "\n",
    "7. Calculate and print the sum of all the positive integers entered by the user.\n",
    "\n",
    "\n",
    "\n",
    "."
   ]
  },
  {
   "cell_type": "markdown",
   "id": "66fb935b",
   "metadata": {},
   "source": [
    "# 1"
   ]
  },
  {
   "cell_type": "code",
   "execution_count": 2,
   "id": "315d4cf3",
   "metadata": {},
   "outputs": [
    {
     "name": "stdout",
     "output_type": "stream",
     "text": [
      "A\n",
      "B\n",
      "C\n",
      "D\n",
      "E\n",
      "F\n",
      "G\n",
      "H\n",
      "I\n",
      "J\n",
      "K\n",
      "L\n",
      "M\n",
      "N\n",
      "O\n",
      "P\n"
     ]
    }
   ],
   "source": [
    "n = 1\n",
    "while n <= 16:\n",
    "    print(chr(65+(n-1)))\n",
    "    n = n+1"
   ]
  },
  {
   "cell_type": "markdown",
   "id": "e55f8757",
   "metadata": {},
   "source": [
    "# 2"
   ]
  },
  {
   "cell_type": "code",
   "execution_count": 4,
   "id": "4d005ee9",
   "metadata": {},
   "outputs": [
    {
     "name": "stdout",
     "output_type": "stream",
     "text": [
      "2\n",
      "4\n",
      "8\n",
      "10\n",
      "14\n",
      "16\n",
      "20\n"
     ]
    }
   ],
   "source": [
    "e = 1\n",
    "while e <= 20:\n",
    "    if (e%2==0) and (e%3!=0):\n",
    "        print(e)\n",
    "    e = e+1"
   ]
  },
  {
   "cell_type": "markdown",
   "id": "07019d62",
   "metadata": {},
   "source": [
    "# 3"
   ]
  },
  {
   "cell_type": "code",
   "execution_count": 5,
   "id": "a3ff4345",
   "metadata": {},
   "outputs": [
    {
     "name": "stdout",
     "output_type": "stream",
     "text": [
      "enter a num ::  7\n",
      "7\n",
      "6\n",
      "5\n",
      "4\n",
      "3\n",
      "2\n",
      "1\n"
     ]
    }
   ],
   "source": [
    "r = int(input(\"enter a num ::  \"))\n",
    "while r>=1:\n",
    "    print(r)\n",
    "    r = r-1 "
   ]
  },
  {
   "cell_type": "markdown",
   "id": "963377ca",
   "metadata": {},
   "source": [
    "# 4"
   ]
  },
  {
   "cell_type": "code",
   "execution_count": 21,
   "id": "9212e53c",
   "metadata": {},
   "outputs": [
    {
     "name": "stdout",
     "output_type": "stream",
     "text": [
      "enter a num  ::  7\n",
      "enter a num ::  8\n",
      "enter a num ::  4\n",
      "enter a num ::  3\n",
      "enter a num ::  2\n",
      "enter a num ::  0\n"
     ]
    }
   ],
   "source": [
    "u = int(input(\"enter a num  ::  \"))\n",
    "while u!=0:\n",
    "    u = int(input(\"enter a num ::  \"))\n",
    "    continue\n",
    "    if u ==0 :\n",
    "        continue"
   ]
  },
  {
   "cell_type": "markdown",
   "id": "f399880e",
   "metadata": {},
   "source": [
    "# 5"
   ]
  },
  {
   "cell_type": "code",
   "execution_count": 4,
   "id": "208859a0",
   "metadata": {},
   "outputs": [
    {
     "name": "stdout",
     "output_type": "stream",
     "text": [
      "2\n",
      "3\n",
      "4\n",
      "6\n",
      "7\n",
      "8\n",
      "9\n",
      "11\n",
      "12\n",
      "13\n",
      "14\n",
      "16\n",
      "17\n",
      "18\n",
      "19\n",
      "20\n"
     ]
    }
   ],
   "source": [
    "c = 1\n",
    "while c < 20:\n",
    "    c = c+1\n",
    "    if c in [5,10,15]:\n",
    "        continue\n",
    "    else:\n",
    "        print(c)"
   ]
  },
  {
   "cell_type": "markdown",
   "id": "4382ed29",
   "metadata": {},
   "source": [
    "# 6"
   ]
  },
  {
   "cell_type": "code",
   "execution_count": 1,
   "id": "0496952f",
   "metadata": {},
   "outputs": [
    {
     "name": "stdout",
     "output_type": "stream",
     "text": [
      "enter your password  :  sid123\n",
      "enter the passworddad567\n",
      "enter your password  :  abc123\n",
      "welcome dear customer\n"
     ]
    }
   ],
   "source": [
    "p =\"abc123\"\n",
    "while p:\n",
    "    user=input(\"enter your password  :  \")\n",
    "    if user==p:\n",
    "        print(\"welcome dear customer\")\n",
    "        break\n",
    "    else:\n",
    "        input(\"enter the password\")"
   ]
  },
  {
   "cell_type": "markdown",
   "id": "93ad5b13",
   "metadata": {},
   "source": [
    "# 7"
   ]
  },
  {
   "cell_type": "code",
   "execution_count": 3,
   "id": "6b6cb7c5",
   "metadata": {},
   "outputs": [
    {
     "name": "stdout",
     "output_type": "stream",
     "text": [
      "enter a number  :  16\n",
      "enter a number  :  67\n",
      "83\n",
      "enter a number  :  9\n",
      "92\n",
      "enter a number  :  7\n",
      "99\n",
      "enter a number  :  10\n",
      "109\n",
      "enter a number  :  5\n",
      "114\n",
      "enter a number  :  4\n",
      "118\n",
      "enter a number  :  7\n",
      "125\n",
      "enter a number  :  0\n",
      "125\n"
     ]
    }
   ],
   "source": [
    "m = int(input(\"enter a number  :  \"))\n",
    "total = m\n",
    "while m:\n",
    "    if m > 0:\n",
    "        m = int(input(\"enter a number  :  \"))\n",
    "        total += m\n",
    "        print(total)\n",
    "    else:\n",
    "        break"
   ]
  },
  {
   "cell_type": "code",
   "execution_count": null,
   "id": "240e2f26",
   "metadata": {},
   "outputs": [],
   "source": []
  }
 ],
 "metadata": {
  "kernelspec": {
   "display_name": "Python 3 (ipykernel)",
   "language": "python",
   "name": "python3"
  },
  "language_info": {
   "codemirror_mode": {
    "name": "ipython",
    "version": 3
   },
   "file_extension": ".py",
   "mimetype": "text/x-python",
   "name": "python",
   "nbconvert_exporter": "python",
   "pygments_lexer": "ipython3",
   "version": "3.11.4"
  }
 },
 "nbformat": 4,
 "nbformat_minor": 5
}
