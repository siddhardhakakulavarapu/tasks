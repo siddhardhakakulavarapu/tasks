{
 "cells": [
  {
   "cell_type": "markdown",
   "id": "e30e91f8",
   "metadata": {},
   "source": [
    "\n",
    "\n",
    "**Assignment Task 1:** Tuple Basics\n",
    "Create a Python tuple containing the names of your favorite fruits. Write a Python program to print `each fruit` name from the tuple.\n",
    "\n",
    "**Assignment Task 2:** Tuple Operations\n",
    "Given two tuples, write a Python program to `concatenate` them into a `single` tuple and then find the `length` of the resulting tuple.\n",
    "\n",
    "**Assignment Task 3:** Set Creation\n",
    "Create a Python set containing the first 10 `even` numbers (2, 4, 6, ...). Write a program to `display` this set.\n",
    "\n",
    "**Assignment Task 4:** Set Operations\n",
    "Given two sets, write a Python program to find the `union, intersection, and difference` of these sets.\n",
    "\n",
    "**Assignment Task 5:** Tuple and Set Conversion\n",
    "Write a Python program that takes a `tuple` of integers and converts it into a `set`. Then, find and print the `maximum and minimum` values from the set.\n",
    "\n",
    "**Assignment Task 6:** Tuple Immutability\n",
    "Explain the concept of immutability in Python tuples with examples. Discuss why tuples are considered immutable data structures.\n",
    "\n",
    "**Assignment Task 7:** Set Operations and Methods\n",
    "Write a Python program that takes a set of numbers and performs the following operations:\n",
    "   - Add a new number to the set.\n",
    "   - Remove a number from the set.\n",
    "   - Check if a specific number is in the set.\n",
    "   - Find the size of the set.\n",
    "\n",
    "**Assignment Task 8:** Tuple Slicing\n",
    "Given a tuple of 10 elements, write a Python program to print the elements from the `3rd to the 7th `position using slicing.\n",
    "\n",
    "**Assignment Task 9:** Set Operations with Lists\n",
    "Create a Python list with duplicate elements and convert it into a set to remove duplicates. Then, write a program to count how many duplicates were removed.\n",
    "\n",
    "**Assignment Task 10:** Tuple and Set Combinations\n",
    "Create a `tuple` containing the names of your friend's favorite movies and a `set` containing the names of your favorite movies. Write a Python program to find and display common elements (movies that feature your "
   ]
  },
  {
   "cell_type": "markdown",
   "id": "4b97cc6c",
   "metadata": {},
   "source": [
    "# Task 1"
   ]
  },
  {
   "cell_type": "code",
   "execution_count": 1,
   "id": "691b10eb",
   "metadata": {},
   "outputs": [],
   "source": [
    "fruits = (\"Banana\",\"Mango\",\"Orange\",\"Apple\",\"Watermelon\")"
   ]
  },
  {
   "cell_type": "code",
   "execution_count": 4,
   "id": "fbdaf5bc",
   "metadata": {},
   "outputs": [
    {
     "data": {
      "text/plain": [
       "'Banana'"
      ]
     },
     "execution_count": 4,
     "metadata": {},
     "output_type": "execute_result"
    }
   ],
   "source": [
    "fruits[0]"
   ]
  },
  {
   "cell_type": "code",
   "execution_count": 5,
   "id": "6e7bf298",
   "metadata": {},
   "outputs": [
    {
     "data": {
      "text/plain": [
       "'Mango'"
      ]
     },
     "execution_count": 5,
     "metadata": {},
     "output_type": "execute_result"
    }
   ],
   "source": [
    "fruits[1]"
   ]
  },
  {
   "cell_type": "code",
   "execution_count": 6,
   "id": "9ad66d5b",
   "metadata": {},
   "outputs": [
    {
     "data": {
      "text/plain": [
       "'Orange'"
      ]
     },
     "execution_count": 6,
     "metadata": {},
     "output_type": "execute_result"
    }
   ],
   "source": [
    "fruits[2]"
   ]
  },
  {
   "cell_type": "code",
   "execution_count": 8,
   "id": "372d04c9",
   "metadata": {},
   "outputs": [
    {
     "data": {
      "text/plain": [
       "'Apple'"
      ]
     },
     "execution_count": 8,
     "metadata": {},
     "output_type": "execute_result"
    }
   ],
   "source": [
    "fruits[3]"
   ]
  },
  {
   "cell_type": "code",
   "execution_count": 9,
   "id": "1a113e31",
   "metadata": {},
   "outputs": [
    {
     "data": {
      "text/plain": [
       "'Watermelon'"
      ]
     },
     "execution_count": 9,
     "metadata": {},
     "output_type": "execute_result"
    }
   ],
   "source": [
    "fruits[4]"
   ]
  },
  {
   "cell_type": "markdown",
   "id": "9c25b25e",
   "metadata": {},
   "source": [
    "# Task 2"
   ]
  },
  {
   "cell_type": "code",
   "execution_count": 10,
   "id": "620e8897",
   "metadata": {},
   "outputs": [],
   "source": [
    "tup1 = (\"Potato\",\"Tomato\",\"Brinjal\",\"Paneer\")"
   ]
  },
  {
   "cell_type": "code",
   "execution_count": 11,
   "id": "2d240634",
   "metadata": {},
   "outputs": [],
   "source": [
    "tup2 = (\"Banana\",\"kiwi\",\"guava\")"
   ]
  },
  {
   "cell_type": "code",
   "execution_count": 12,
   "id": "3167a736",
   "metadata": {},
   "outputs": [],
   "source": [
    "t = tup1+tup2"
   ]
  },
  {
   "cell_type": "code",
   "execution_count": 13,
   "id": "b68080cf",
   "metadata": {},
   "outputs": [
    {
     "data": {
      "text/plain": [
       "('Potato', 'Tomato', 'Brinjal', 'Paneer', 'Banana', 'kiwi', 'guava')"
      ]
     },
     "execution_count": 13,
     "metadata": {},
     "output_type": "execute_result"
    }
   ],
   "source": [
    "t"
   ]
  },
  {
   "cell_type": "code",
   "execution_count": 14,
   "id": "4e0e1285",
   "metadata": {},
   "outputs": [
    {
     "data": {
      "text/plain": [
       "7"
      ]
     },
     "execution_count": 14,
     "metadata": {},
     "output_type": "execute_result"
    }
   ],
   "source": [
    "len(t)"
   ]
  },
  {
   "cell_type": "markdown",
   "id": "0b9d508a",
   "metadata": {},
   "source": [
    "# Task 3"
   ]
  },
  {
   "cell_type": "code",
   "execution_count": 15,
   "id": "9e408458",
   "metadata": {},
   "outputs": [],
   "source": [
    "set1 = {2,4,6,8,10,12,14,16,18,20}"
   ]
  },
  {
   "cell_type": "code",
   "execution_count": 16,
   "id": "a87d9857",
   "metadata": {},
   "outputs": [
    {
     "name": "stdout",
     "output_type": "stream",
     "text": [
      "{2, 4, 6, 8, 10, 12, 14, 16, 18, 20}\n"
     ]
    }
   ],
   "source": [
    "print(set1)"
   ]
  },
  {
   "cell_type": "markdown",
   "id": "5d9310a8",
   "metadata": {},
   "source": [
    "# Task 4"
   ]
  },
  {
   "cell_type": "code",
   "execution_count": 18,
   "id": "c33aee74",
   "metadata": {},
   "outputs": [],
   "source": [
    "s1 = {1,2,3,4,5,6,7,8}\n",
    "s2 = {2,4,6,8}"
   ]
  },
  {
   "cell_type": "code",
   "execution_count": 19,
   "id": "e9e00acc",
   "metadata": {},
   "outputs": [
    {
     "data": {
      "text/plain": [
       "{1, 2, 3, 4, 5, 6, 7, 8}"
      ]
     },
     "execution_count": 19,
     "metadata": {},
     "output_type": "execute_result"
    }
   ],
   "source": [
    "s1.union(s2)                # union"
   ]
  },
  {
   "cell_type": "code",
   "execution_count": 20,
   "id": "d6c36877",
   "metadata": {},
   "outputs": [
    {
     "data": {
      "text/plain": [
       "{2, 4, 6, 8}"
      ]
     },
     "execution_count": 20,
     "metadata": {},
     "output_type": "execute_result"
    }
   ],
   "source": [
    "s1.intersection(s2)   # intersection"
   ]
  },
  {
   "cell_type": "code",
   "execution_count": 21,
   "id": "c6131b7a",
   "metadata": {},
   "outputs": [
    {
     "data": {
      "text/plain": [
       "{1, 3, 5, 7}"
      ]
     },
     "execution_count": 21,
     "metadata": {},
     "output_type": "execute_result"
    }
   ],
   "source": [
    "s1.difference(s2)         # difference"
   ]
  },
  {
   "cell_type": "markdown",
   "id": "20dc3d6b",
   "metadata": {},
   "source": [
    "# Task 5"
   ]
  },
  {
   "cell_type": "code",
   "execution_count": 22,
   "id": "7cd7f90d",
   "metadata": {},
   "outputs": [],
   "source": [
    "tuple1 = (10,20,30,40,50)"
   ]
  },
  {
   "cell_type": "code",
   "execution_count": 25,
   "id": "572f4b38",
   "metadata": {},
   "outputs": [],
   "source": [
    "set1 = set(tuple1)"
   ]
  },
  {
   "cell_type": "code",
   "execution_count": 26,
   "id": "183594e6",
   "metadata": {},
   "outputs": [
    {
     "data": {
      "text/plain": [
       "{10, 20, 30, 40, 50}"
      ]
     },
     "execution_count": 26,
     "metadata": {},
     "output_type": "execute_result"
    }
   ],
   "source": [
    "set1"
   ]
  },
  {
   "cell_type": "code",
   "execution_count": 27,
   "id": "5043f1e5",
   "metadata": {},
   "outputs": [
    {
     "data": {
      "text/plain": [
       "50"
      ]
     },
     "execution_count": 27,
     "metadata": {},
     "output_type": "execute_result"
    }
   ],
   "source": [
    "max(set1)"
   ]
  },
  {
   "cell_type": "code",
   "execution_count": 28,
   "id": "a1a8c707",
   "metadata": {},
   "outputs": [
    {
     "data": {
      "text/plain": [
       "10"
      ]
     },
     "execution_count": 28,
     "metadata": {},
     "output_type": "execute_result"
    }
   ],
   "source": [
    "min(set1)"
   ]
  },
  {
   "cell_type": "markdown",
   "id": "9c789801",
   "metadata": {},
   "source": [
    "# Task 6"
   ]
  },
  {
   "cell_type": "markdown",
   "id": "7b8f039c",
   "metadata": {},
   "source": [
    "* we cannot add or remove elements in tuple datatype so it is said to be immutable"
   ]
  },
  {
   "cell_type": "code",
   "execution_count": 29,
   "id": "598616e2",
   "metadata": {},
   "outputs": [],
   "source": [
    "tuple1 = (\"ramesh\",\"suresh\",\"rajesh\",\"prakash\")"
   ]
  },
  {
   "cell_type": "code",
   "execution_count": 30,
   "id": "fbeb45fd",
   "metadata": {},
   "outputs": [
    {
     "ename": "AttributeError",
     "evalue": "'tuple' object has no attribute 'append'",
     "output_type": "error",
     "traceback": [
      "\u001b[1;31m---------------------------------------------------------------------------\u001b[0m",
      "\u001b[1;31mAttributeError\u001b[0m                            Traceback (most recent call last)",
      "Cell \u001b[1;32mIn[30], line 1\u001b[0m\n\u001b[1;32m----> 1\u001b[0m tuple1\u001b[38;5;241m.\u001b[39mappend(\u001b[38;5;124m\"\u001b[39m\u001b[38;5;124msai\u001b[39m\u001b[38;5;124m\"\u001b[39m)\n",
      "\u001b[1;31mAttributeError\u001b[0m: 'tuple' object has no attribute 'append'"
     ]
    }
   ],
   "source": [
    "tuple1.append(\"sai\")"
   ]
  },
  {
   "cell_type": "code",
   "execution_count": 31,
   "id": "593b9c9f",
   "metadata": {},
   "outputs": [
    {
     "ename": "AttributeError",
     "evalue": "'tuple' object has no attribute 'remove'",
     "output_type": "error",
     "traceback": [
      "\u001b[1;31m---------------------------------------------------------------------------\u001b[0m",
      "\u001b[1;31mAttributeError\u001b[0m                            Traceback (most recent call last)",
      "Cell \u001b[1;32mIn[31], line 1\u001b[0m\n\u001b[1;32m----> 1\u001b[0m tuple1\u001b[38;5;241m.\u001b[39mremove(\u001b[38;5;124m\"\u001b[39m\u001b[38;5;124mrajesh\u001b[39m\u001b[38;5;124m\"\u001b[39m)\n",
      "\u001b[1;31mAttributeError\u001b[0m: 'tuple' object has no attribute 'remove'"
     ]
    }
   ],
   "source": [
    "tuple1.remove(\"rajesh\")"
   ]
  },
  {
   "cell_type": "markdown",
   "id": "d6379a50",
   "metadata": {},
   "source": [
    "# Task 7"
   ]
  },
  {
   "cell_type": "code",
   "execution_count": 37,
   "id": "f491a425",
   "metadata": {},
   "outputs": [],
   "source": [
    "set3 = {93,12,43,56,74,98}"
   ]
  },
  {
   "cell_type": "code",
   "execution_count": 38,
   "id": "2427556b",
   "metadata": {},
   "outputs": [],
   "source": [
    "set3.add(42)                # adding a new no."
   ]
  },
  {
   "cell_type": "code",
   "execution_count": 39,
   "id": "276068a2",
   "metadata": {},
   "outputs": [
    {
     "data": {
      "text/plain": [
       "{12, 42, 43, 56, 74, 93, 98}"
      ]
     },
     "execution_count": 39,
     "metadata": {},
     "output_type": "execute_result"
    }
   ],
   "source": [
    "set3"
   ]
  },
  {
   "cell_type": "code",
   "execution_count": 40,
   "id": "49ecb515",
   "metadata": {},
   "outputs": [],
   "source": [
    "set3.remove(56)                  # removing a no. from the set"
   ]
  },
  {
   "cell_type": "code",
   "execution_count": 41,
   "id": "18dad51d",
   "metadata": {},
   "outputs": [
    {
     "data": {
      "text/plain": [
       "{12, 42, 43, 74, 93, 98}"
      ]
     },
     "execution_count": 41,
     "metadata": {},
     "output_type": "execute_result"
    }
   ],
   "source": [
    "set3"
   ]
  },
  {
   "cell_type": "code",
   "execution_count": 44,
   "id": "3ccad287",
   "metadata": {},
   "outputs": [
    {
     "data": {
      "text/plain": [
       "True"
      ]
     },
     "execution_count": 44,
     "metadata": {},
     "output_type": "execute_result"
    }
   ],
   "source": [
    "42 in set3               # checking the no. is in set or not"
   ]
  },
  {
   "cell_type": "code",
   "execution_count": 46,
   "id": "c09faa3d",
   "metadata": {},
   "outputs": [
    {
     "data": {
      "text/plain": [
       "6"
      ]
     },
     "execution_count": 46,
     "metadata": {},
     "output_type": "execute_result"
    }
   ],
   "source": [
    "len(set3)                 #size of set"
   ]
  },
  {
   "cell_type": "markdown",
   "id": "eb370232",
   "metadata": {},
   "source": [
    "# Task 8"
   ]
  },
  {
   "cell_type": "code",
   "execution_count": 48,
   "id": "868e5f2d",
   "metadata": {},
   "outputs": [],
   "source": [
    "tuple3 = (\"a\",\"b\",\"c\",\"d\",\"e\",\"f\",\"g\",\"h\",\"i\",\"j\")"
   ]
  },
  {
   "cell_type": "code",
   "execution_count": 49,
   "id": "b65f659b",
   "metadata": {},
   "outputs": [
    {
     "data": {
      "text/plain": [
       "('c', 'd', 'e', 'f', 'g', 'h')"
      ]
     },
     "execution_count": 49,
     "metadata": {},
     "output_type": "execute_result"
    }
   ],
   "source": [
    "tuple3[2:8]"
   ]
  },
  {
   "cell_type": "markdown",
   "id": "efd2e506",
   "metadata": {},
   "source": [
    "# Task 9"
   ]
  },
  {
   "cell_type": "code",
   "execution_count": 1,
   "id": "39e81dce",
   "metadata": {},
   "outputs": [],
   "source": [
    "list1 = [1,2,3,2,4,5,3,5,6,5,7]"
   ]
  },
  {
   "cell_type": "code",
   "execution_count": 3,
   "id": "be969627",
   "metadata": {},
   "outputs": [],
   "source": [
    "s = set(list1)              # conversion of list into set"
   ]
  },
  {
   "cell_type": "code",
   "execution_count": 6,
   "id": "b7c1af1c",
   "metadata": {},
   "outputs": [
    {
     "data": {
      "text/plain": [
       "set"
      ]
     },
     "execution_count": 6,
     "metadata": {},
     "output_type": "execute_result"
    }
   ],
   "source": [
    "type(set(list1))"
   ]
  },
  {
   "cell_type": "code",
   "execution_count": 4,
   "id": "5e06901e",
   "metadata": {},
   "outputs": [
    {
     "data": {
      "text/plain": [
       "{1, 2, 3, 4, 5, 6, 7}"
      ]
     },
     "execution_count": 4,
     "metadata": {},
     "output_type": "execute_result"
    }
   ],
   "source": [
    "s"
   ]
  },
  {
   "cell_type": "code",
   "execution_count": 5,
   "id": "1e131f8b",
   "metadata": {},
   "outputs": [
    {
     "data": {
      "text/plain": [
       "4"
      ]
     },
     "execution_count": 5,
     "metadata": {},
     "output_type": "execute_result"
    }
   ],
   "source": [
    "len(list1)-len(s)             # no. of duplicates removed"
   ]
  },
  {
   "cell_type": "markdown",
   "id": "b73f6c04",
   "metadata": {},
   "source": [
    "# Task 10"
   ]
  },
  {
   "cell_type": "code",
   "execution_count": 86,
   "id": "7cb72dc6",
   "metadata": {},
   "outputs": [],
   "source": [
    "tuple5 = (\"pokiri\",\"magadheera\",\"mirchi\",\"khaleja\",\"maharshi\")"
   ]
  },
  {
   "cell_type": "code",
   "execution_count": 87,
   "id": "35a9edef",
   "metadata": {},
   "outputs": [],
   "source": [
    "set7 = {\"mirchi\",\"rebel\",\"khaleja\"}"
   ]
  },
  {
   "cell_type": "code",
   "execution_count": 88,
   "id": "e56506b1",
   "metadata": {},
   "outputs": [
    {
     "data": {
      "text/plain": [
       "{'khaleja', 'mirchi'}"
      ]
     },
     "execution_count": 88,
     "metadata": {},
     "output_type": "execute_result"
    }
   ],
   "source": [
    "set7.intersection(tuple5)"
   ]
  },
  {
   "cell_type": "code",
   "execution_count": null,
   "id": "042af700",
   "metadata": {},
   "outputs": [],
   "source": []
  }
 ],
 "metadata": {
  "kernelspec": {
   "display_name": "Python 3 (ipykernel)",
   "language": "python",
   "name": "python3"
  },
  "language_info": {
   "codemirror_mode": {
    "name": "ipython",
    "version": 3
   },
   "file_extension": ".py",
   "mimetype": "text/x-python",
   "name": "python",
   "nbconvert_exporter": "python",
   "pygments_lexer": "ipython3",
   "version": "3.11.4"
  }
 },
 "nbformat": 4,
 "nbformat_minor": 5
}
