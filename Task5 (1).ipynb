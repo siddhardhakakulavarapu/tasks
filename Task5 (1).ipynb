{
 "cells": [
  {
   "cell_type": "markdown",
   "id": "f9cca2f0",
   "metadata": {},
   "source": [
    "**Task1: Append and Modify Elements**\n",
    "    \n",
    "* Create an empty list called numbers. Append the numbers 1, 2, and 3 to the list.\n",
    "* Modify the element at index 1 to be 4.\n",
    "* Print the updated list.\n",
    "\n",
    "**Task2: Slicing and Concatenation**\n",
    "\n",
    "* Create a list called fruits with elements 'apple', 'banana', 'orange', 'mango', and 'kiwi'. \n",
    "* Create a new list  by slicing fruits to include only the citrus fruits ('orange' and 'mango\"). * Create a new list called tropical by slicing fruits to include only the tropical fruits ('banana\" and \"kiwi'). \n",
    "* Concatenate citrus and tropical lists to create a new list called combined. Print combined.\n",
    "\n",
    "**Task3: Counting and Removing Elements**\n",
    "\n",
    "* Create a list called colors with repeated elements 'red', 'blue', 'red', 'green', 'red'. Print the number of occurrences of 'red' in the list. Remove all occurrences of 'red' from the list. Print the updated list.\n",
    "\n",
    "**Task 4: List Manipulation**\n",
    "\n",
    "* Add 'cheese' to the end of the list. Remove 'milk' from the list.\n",
    "* Create a list called groceries with initial items: 'bread', 'milk', 'eggs', 'butter'. Print the final list of groceries.\n",
    "* Insert 'yogurt' at index 1.\n",
    "\n"
   ]
  },
  {
   "cell_type": "markdown",
   "id": "b41cf12d",
   "metadata": {},
   "source": [
    "# Task 1"
   ]
  },
  {
   "cell_type": "markdown",
   "id": "1ca0eff7",
   "metadata": {},
   "source": [
    "*"
   ]
  },
  {
   "cell_type": "code",
   "execution_count": 11,
   "id": "9983bbc0",
   "metadata": {},
   "outputs": [],
   "source": [
    "numbers = list()"
   ]
  },
  {
   "cell_type": "code",
   "execution_count": 12,
   "id": "885272f1",
   "metadata": {},
   "outputs": [
    {
     "data": {
      "text/plain": [
       "[]"
      ]
     },
     "execution_count": 12,
     "metadata": {},
     "output_type": "execute_result"
    }
   ],
   "source": [
    "numbers"
   ]
  },
  {
   "cell_type": "code",
   "execution_count": 13,
   "id": "2dad6f34",
   "metadata": {},
   "outputs": [],
   "source": [
    "numbers.append(1)"
   ]
  },
  {
   "cell_type": "code",
   "execution_count": 14,
   "id": "3e06585f",
   "metadata": {},
   "outputs": [
    {
     "data": {
      "text/plain": [
       "[1]"
      ]
     },
     "execution_count": 14,
     "metadata": {},
     "output_type": "execute_result"
    }
   ],
   "source": [
    "numbers"
   ]
  },
  {
   "cell_type": "code",
   "execution_count": 15,
   "id": "8789fb35",
   "metadata": {},
   "outputs": [],
   "source": [
    "numbers.append(2)"
   ]
  },
  {
   "cell_type": "code",
   "execution_count": 16,
   "id": "47e98055",
   "metadata": {},
   "outputs": [
    {
     "data": {
      "text/plain": [
       "[1, 2]"
      ]
     },
     "execution_count": 16,
     "metadata": {},
     "output_type": "execute_result"
    }
   ],
   "source": [
    "numbers"
   ]
  },
  {
   "cell_type": "code",
   "execution_count": 17,
   "id": "4c18961d",
   "metadata": {},
   "outputs": [],
   "source": [
    "numbers.append(3)"
   ]
  },
  {
   "cell_type": "code",
   "execution_count": 18,
   "id": "10105718",
   "metadata": {},
   "outputs": [
    {
     "data": {
      "text/plain": [
       "[1, 2, 3]"
      ]
     },
     "execution_count": 18,
     "metadata": {},
     "output_type": "execute_result"
    }
   ],
   "source": [
    "numbers"
   ]
  },
  {
   "cell_type": "markdown",
   "id": "926f712c",
   "metadata": {},
   "source": [
    "*"
   ]
  },
  {
   "cell_type": "code",
   "execution_count": 19,
   "id": "7a6b76b9",
   "metadata": {},
   "outputs": [],
   "source": [
    "numbers.insert(1,4)"
   ]
  },
  {
   "cell_type": "code",
   "execution_count": 20,
   "id": "3f8008e4",
   "metadata": {},
   "outputs": [
    {
     "data": {
      "text/plain": [
       "[1, 4, 2, 3]"
      ]
     },
     "execution_count": 20,
     "metadata": {},
     "output_type": "execute_result"
    }
   ],
   "source": [
    "numbers"
   ]
  },
  {
   "cell_type": "markdown",
   "id": "0213e48b",
   "metadata": {},
   "source": [
    "# Task 2"
   ]
  },
  {
   "cell_type": "code",
   "execution_count": 21,
   "id": "094ed6ab",
   "metadata": {},
   "outputs": [],
   "source": [
    "fruits = ['apple', 'banana', 'orange', 'mango', 'kiwi']"
   ]
  },
  {
   "cell_type": "code",
   "execution_count": 26,
   "id": "fc5c5976",
   "metadata": {},
   "outputs": [],
   "source": [
    "citrus = fruits[2:4]           # citrus fruits"
   ]
  },
  {
   "cell_type": "code",
   "execution_count": 27,
   "id": "ce5f51dc",
   "metadata": {},
   "outputs": [
    {
     "data": {
      "text/plain": [
       "['orange', 'mango']"
      ]
     },
     "execution_count": 27,
     "metadata": {},
     "output_type": "execute_result"
    }
   ],
   "source": [
    "citrus"
   ]
  },
  {
   "cell_type": "code",
   "execution_count": 32,
   "id": "8a293020",
   "metadata": {},
   "outputs": [],
   "source": [
    "tropical = fruits[1::3]                       # tropical fruits"
   ]
  },
  {
   "cell_type": "code",
   "execution_count": 33,
   "id": "eb71a9bb",
   "metadata": {},
   "outputs": [
    {
     "data": {
      "text/plain": [
       "['banana', 'kiwi']"
      ]
     },
     "execution_count": 33,
     "metadata": {},
     "output_type": "execute_result"
    }
   ],
   "source": [
    "tropical"
   ]
  },
  {
   "cell_type": "code",
   "execution_count": 39,
   "id": "46a87432",
   "metadata": {},
   "outputs": [],
   "source": [
    "combined = citrus+tropical"
   ]
  },
  {
   "cell_type": "code",
   "execution_count": 40,
   "id": "dba4c4af",
   "metadata": {},
   "outputs": [
    {
     "data": {
      "text/plain": [
       "['orange', 'mango', 'banana', 'kiwi']"
      ]
     },
     "execution_count": 40,
     "metadata": {},
     "output_type": "execute_result"
    }
   ],
   "source": [
    "combined"
   ]
  },
  {
   "cell_type": "markdown",
   "id": "cde1c8ba",
   "metadata": {},
   "source": [
    "# Task 3"
   ]
  },
  {
   "cell_type": "code",
   "execution_count": 48,
   "id": "93a40e6e",
   "metadata": {},
   "outputs": [],
   "source": [
    "colors = ['red', 'blue', 'red', 'green', 'red']"
   ]
  },
  {
   "cell_type": "code",
   "execution_count": 49,
   "id": "54c69e7b",
   "metadata": {},
   "outputs": [
    {
     "data": {
      "text/plain": [
       "3"
      ]
     },
     "execution_count": 49,
     "metadata": {},
     "output_type": "execute_result"
    }
   ],
   "source": [
    "colors.count('red')                  # no. of occurances of red"
   ]
  },
  {
   "cell_type": "code",
   "execution_count": 50,
   "id": "f1a8633c",
   "metadata": {},
   "outputs": [],
   "source": [
    "colors.remove('red')"
   ]
  },
  {
   "cell_type": "code",
   "execution_count": 51,
   "id": "ac1fd811",
   "metadata": {},
   "outputs": [
    {
     "data": {
      "text/plain": [
       "['blue', 'red', 'green', 'red']"
      ]
     },
     "execution_count": 51,
     "metadata": {},
     "output_type": "execute_result"
    }
   ],
   "source": [
    "colors"
   ]
  },
  {
   "cell_type": "code",
   "execution_count": 53,
   "id": "d4378922",
   "metadata": {},
   "outputs": [],
   "source": [
    "colors.remove('red')"
   ]
  },
  {
   "cell_type": "code",
   "execution_count": 54,
   "id": "bd647f77",
   "metadata": {},
   "outputs": [
    {
     "data": {
      "text/plain": [
       "['blue', 'green', 'red']"
      ]
     },
     "execution_count": 54,
     "metadata": {},
     "output_type": "execute_result"
    }
   ],
   "source": [
    "colors"
   ]
  },
  {
   "cell_type": "code",
   "execution_count": 55,
   "id": "e6d1c7cb",
   "metadata": {},
   "outputs": [],
   "source": [
    "colors.remove('red')"
   ]
  },
  {
   "cell_type": "code",
   "execution_count": 56,
   "id": "ec910df2",
   "metadata": {},
   "outputs": [
    {
     "data": {
      "text/plain": [
       "['blue', 'green']"
      ]
     },
     "execution_count": 56,
     "metadata": {},
     "output_type": "execute_result"
    }
   ],
   "source": [
    "colors"
   ]
  },
  {
   "cell_type": "code",
   "execution_count": 58,
   "id": "39c28857",
   "metadata": {},
   "outputs": [
    {
     "data": {
      "text/plain": [
       "['blue', 'green']"
      ]
     },
     "execution_count": 58,
     "metadata": {},
     "output_type": "execute_result"
    }
   ],
   "source": [
    "colors               # updated list"
   ]
  },
  {
   "cell_type": "markdown",
   "id": "48d5bbb5",
   "metadata": {},
   "source": [
    "# Task 4"
   ]
  },
  {
   "cell_type": "code",
   "execution_count": 59,
   "id": "3b5af354",
   "metadata": {},
   "outputs": [],
   "source": [
    "groceries = ['bread', 'milk', 'eggs', 'butter']"
   ]
  },
  {
   "cell_type": "code",
   "execution_count": 60,
   "id": "a6c4f81a",
   "metadata": {},
   "outputs": [],
   "source": [
    "groceries.append('cheese') "
   ]
  },
  {
   "cell_type": "code",
   "execution_count": 62,
   "id": "365c9bb1",
   "metadata": {},
   "outputs": [
    {
     "data": {
      "text/plain": [
       "['bread', 'milk', 'eggs', 'butter', 'cheese']"
      ]
     },
     "execution_count": 62,
     "metadata": {},
     "output_type": "execute_result"
    }
   ],
   "source": [
    "groceries                     # appended cheese in the list "
   ]
  },
  {
   "cell_type": "code",
   "execution_count": 63,
   "id": "4febaf02",
   "metadata": {},
   "outputs": [],
   "source": [
    "groceries.remove('milk')"
   ]
  },
  {
   "cell_type": "code",
   "execution_count": 65,
   "id": "c825f4cb",
   "metadata": {},
   "outputs": [
    {
     "data": {
      "text/plain": [
       "['bread', 'eggs', 'butter', 'cheese']"
      ]
     },
     "execution_count": 65,
     "metadata": {},
     "output_type": "execute_result"
    }
   ],
   "source": [
    "groceries                       # removed milk from list"
   ]
  },
  {
   "cell_type": "code",
   "execution_count": 66,
   "id": "437a3395",
   "metadata": {},
   "outputs": [],
   "source": [
    "groceries.insert(1,'yogurt')"
   ]
  },
  {
   "cell_type": "code",
   "execution_count": 68,
   "id": "ba88b4c1",
   "metadata": {},
   "outputs": [
    {
     "data": {
      "text/plain": [
       "['bread', 'yogurt', 'eggs', 'butter', 'cheese']"
      ]
     },
     "execution_count": 68,
     "metadata": {},
     "output_type": "execute_result"
    }
   ],
   "source": [
    "groceries                   # inserted yogurt at index 1"
   ]
  },
  {
   "cell_type": "code",
   "execution_count": null,
   "id": "b69deb82",
   "metadata": {},
   "outputs": [],
   "source": []
  }
 ],
 "metadata": {
  "kernelspec": {
   "display_name": "Python 3 (ipykernel)",
   "language": "python",
   "name": "python3"
  },
  "language_info": {
   "codemirror_mode": {
    "name": "ipython",
    "version": 3
   },
   "file_extension": ".py",
   "mimetype": "text/x-python",
   "name": "python",
   "nbconvert_exporter": "python",
   "pygments_lexer": "ipython3",
   "version": "3.11.4"
  }
 },
 "nbformat": 4,
 "nbformat_minor": 5
}
