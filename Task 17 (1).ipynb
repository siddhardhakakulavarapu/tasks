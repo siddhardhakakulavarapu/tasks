{
 "cells": [
  {
   "cell_type": "markdown",
   "id": "8dc8a778",
   "metadata": {},
   "source": [
    "\n",
    "`use context manager`\n",
    "\n",
    "**Create a file**\n",
    "Write a Python program that creates a text file named \"data.txt\" and add data about python programming (should contain at least 5 lines)\n",
    "\n",
    "**Read and Display File Contents**\n",
    "Write a Python program that reads a text file named \"data.txt\" and displays its contents on the screen.\n",
    "\n",
    "**Count Words in a File**\n",
    "Write a Python program that reads a text file named \"data.txt\" and counts the total number of words in the file. Display the word count on the screen.\n",
    "\n",
    "**Search and Replace**\n",
    "Create a Python program that reads a text file named \"data.txt\" and asks the user to enter a word to search for. If the word is found in the file, replace all occurrences of the word with a new word provided by the user.\n",
    "\n",
    "**Append to a File**\n",
    "Write a Python program that prompts the user to enter a sentence. Append this sentence to an existing file named \"notes.txt\". Make sure the newly added sentence starts on a new line.\n",
    "\n",
    "\n"
   ]
  },
  {
   "cell_type": "markdown",
   "id": "24f39b35",
   "metadata": {},
   "source": [
    "## Task1"
   ]
  },
  {
   "cell_type": "code",
   "execution_count": 154,
   "id": "19c2ecaa",
   "metadata": {},
   "outputs": [],
   "source": [
    "file = open(\"data.txt\",'w+')"
   ]
  },
  {
   "cell_type": "code",
   "execution_count": 135,
   "id": "ddbd50e5",
   "metadata": {},
   "outputs": [
    {
     "data": {
      "text/plain": [
       "546"
      ]
     },
     "execution_count": 135,
     "metadata": {},
     "output_type": "execute_result"
    }
   ],
   "source": [
    "file.write(r\"Python is an interpreted, object-oriented, high-level programming language with dynamic semantics. Its high-level built in data structures, combined with dynamic typing and dynamic binding, make it very attractive for Rapid Application Development, as well as for use as a scripting or glue language to connect existing components together. Python's simple, easy to learn syntax emphasizes readability and therefore reduces the cost of program maintenance. Python supports modules and packages, which encourages program modularity and code reuse.\")"
   ]
  },
  {
   "cell_type": "code",
   "execution_count": 136,
   "id": "43e3a004",
   "metadata": {},
   "outputs": [],
   "source": [
    "file.close()"
   ]
  },
  {
   "cell_type": "markdown",
   "id": "2d4029db",
   "metadata": {},
   "source": [
    "## Task2"
   ]
  },
  {
   "cell_type": "code",
   "execution_count": 137,
   "id": "81f35b77",
   "metadata": {},
   "outputs": [],
   "source": [
    "file = open(\"data.txt\",'r')"
   ]
  },
  {
   "cell_type": "code",
   "execution_count": 138,
   "id": "98d7f66d",
   "metadata": {},
   "outputs": [
    {
     "data": {
      "text/plain": [
       "\"Python is an interpreted, object-oriented, high-level programming language with dynamic semantics. Its high-level built in data structures, combined with dynamic typing and dynamic binding, make it very attractive for Rapid Application Development, as well as for use as a scripting or glue language to connect existing components together. Python's simple, easy to learn syntax emphasizes readability and therefore reduces the cost of program maintenance. Python supports modules and packages, which encourages program modularity and code reuse.\""
      ]
     },
     "execution_count": 138,
     "metadata": {},
     "output_type": "execute_result"
    }
   ],
   "source": [
    "file.seek(0)\n",
    "file.read()"
   ]
  },
  {
   "cell_type": "markdown",
   "id": "197f3354",
   "metadata": {},
   "source": [
    "## Task3"
   ]
  },
  {
   "cell_type": "code",
   "execution_count": 139,
   "id": "210ed153",
   "metadata": {},
   "outputs": [],
   "source": [
    "file = open(\"data.txt\",'r')\n",
    "c = file.read()\n",
    "c1 = c.split()"
   ]
  },
  {
   "cell_type": "code",
   "execution_count": 140,
   "id": "320bae7b",
   "metadata": {},
   "outputs": [
    {
     "data": {
      "text/plain": [
       "['Python',\n",
       " 'is',\n",
       " 'an',\n",
       " 'interpreted,',\n",
       " 'object-oriented,',\n",
       " 'high-level',\n",
       " 'programming',\n",
       " 'language',\n",
       " 'with',\n",
       " 'dynamic',\n",
       " 'semantics.',\n",
       " 'Its',\n",
       " 'high-level',\n",
       " 'built',\n",
       " 'in',\n",
       " 'data',\n",
       " 'structures,',\n",
       " 'combined',\n",
       " 'with',\n",
       " 'dynamic',\n",
       " 'typing',\n",
       " 'and',\n",
       " 'dynamic',\n",
       " 'binding,',\n",
       " 'make',\n",
       " 'it',\n",
       " 'very',\n",
       " 'attractive',\n",
       " 'for',\n",
       " 'Rapid',\n",
       " 'Application',\n",
       " 'Development,',\n",
       " 'as',\n",
       " 'well',\n",
       " 'as',\n",
       " 'for',\n",
       " 'use',\n",
       " 'as',\n",
       " 'a',\n",
       " 'scripting',\n",
       " 'or',\n",
       " 'glue',\n",
       " 'language',\n",
       " 'to',\n",
       " 'connect',\n",
       " 'existing',\n",
       " 'components',\n",
       " 'together.',\n",
       " \"Python's\",\n",
       " 'simple,',\n",
       " 'easy',\n",
       " 'to',\n",
       " 'learn',\n",
       " 'syntax',\n",
       " 'emphasizes',\n",
       " 'readability',\n",
       " 'and',\n",
       " 'therefore',\n",
       " 'reduces',\n",
       " 'the',\n",
       " 'cost',\n",
       " 'of',\n",
       " 'program',\n",
       " 'maintenance.',\n",
       " 'Python',\n",
       " 'supports',\n",
       " 'modules',\n",
       " 'and',\n",
       " 'packages,',\n",
       " 'which',\n",
       " 'encourages',\n",
       " 'program',\n",
       " 'modularity',\n",
       " 'and',\n",
       " 'code',\n",
       " 'reuse.']"
      ]
     },
     "execution_count": 140,
     "metadata": {},
     "output_type": "execute_result"
    }
   ],
   "source": [
    "c1"
   ]
  },
  {
   "cell_type": "code",
   "execution_count": 141,
   "id": "fba865d7",
   "metadata": {},
   "outputs": [
    {
     "name": "stdout",
     "output_type": "stream",
     "text": [
      "['Python', 'is', 'an', 'interpreted,', 'object-oriented,', 'high-level', 'programming', 'language', 'with', 'dynamic', 'semantics.', 'Its', 'high-level', 'built', 'in', 'data', 'structures,', 'combined', 'with', 'dynamic', 'typing', 'and', 'dynamic', 'binding,', 'make', 'it', 'very', 'attractive', 'for', 'Rapid', 'Application', 'Development,', 'as', 'well', 'as', 'for', 'use', 'as', 'a', 'scripting', 'or', 'glue', 'language', 'to', 'connect', 'existing', 'components', 'together.', \"Python's\", 'simple,', 'easy', 'to', 'learn', 'syntax', 'emphasizes', 'readability', 'and', 'therefore', 'reduces', 'the', 'cost', 'of', 'program', 'maintenance.', 'Python', 'supports', 'modules', 'and', 'packages,', 'which', 'encourages', 'program', 'modularity', 'and', 'code', 'reuse.']\n"
     ]
    }
   ],
   "source": [
    "print(c1)"
   ]
  },
  {
   "cell_type": "code",
   "execution_count": 142,
   "id": "7dde87a2",
   "metadata": {},
   "outputs": [
    {
     "data": {
      "text/plain": [
       "76"
      ]
     },
     "execution_count": 142,
     "metadata": {},
     "output_type": "execute_result"
    }
   ],
   "source": [
    "len(c1)"
   ]
  },
  {
   "cell_type": "markdown",
   "id": "699652c7",
   "metadata": {},
   "source": [
    "## Task4"
   ]
  },
  {
   "cell_type": "code",
   "execution_count": 157,
   "id": "4553f53c",
   "metadata": {},
   "outputs": [],
   "source": [
    "file = open(\"data.txt\",'a+')"
   ]
  },
  {
   "cell_type": "code",
   "execution_count": 158,
   "id": "3f15f734",
   "metadata": {},
   "outputs": [
    {
     "data": {
      "text/plain": [
       "''"
      ]
     },
     "execution_count": 158,
     "metadata": {},
     "output_type": "execute_result"
    }
   ],
   "source": [
    "file.read()"
   ]
  },
  {
   "cell_type": "code",
   "execution_count": 159,
   "id": "b2a0ed23",
   "metadata": {},
   "outputs": [
    {
     "data": {
      "text/plain": [
       "0"
      ]
     },
     "execution_count": 159,
     "metadata": {},
     "output_type": "execute_result"
    }
   ],
   "source": [
    "file.seek(0)"
   ]
  },
  {
   "cell_type": "code",
   "execution_count": 162,
   "id": "b47573d1",
   "metadata": {},
   "outputs": [
    {
     "name": "stdout",
     "output_type": "stream",
     "text": [
      "enter the word to search :   is \n",
      "enter the word to be replaced :  was \n",
      "Python was an interpreted, object-oriented, high-level programming language with dynamic semantics. Its high-level built in data structures, combined with dynamic typing and dynamic binding, make it very attractive for Rapid Application Development, as well as for use as a scripting or glue language to connect existing components together. Python's simple, easy to learn syntax emphasizes readability and therefore reduces the cost of program maintenance. Python supports modules and packages, which encourages program modularity and code reuse.\n"
     ]
    }
   ],
   "source": [
    "s = input(\"enter the word to search :   \")\n",
    "i = input(\"enter the word to be replaced :  \")\n",
    "if s in c:\n",
    "    print(c.replace(s,i))"
   ]
  },
  {
   "cell_type": "markdown",
   "id": "7ed76fdb",
   "metadata": {},
   "source": [
    "## Task5"
   ]
  },
  {
   "cell_type": "code",
   "execution_count": 179,
   "id": "3facbcd7",
   "metadata": {},
   "outputs": [
    {
     "name": "stdout",
     "output_type": "stream",
     "text": [
      "enter the sentence :   I am learning Data Science\n"
     ]
    },
    {
     "data": {
      "text/plain": [
       "27"
      ]
     },
     "execution_count": 179,
     "metadata": {},
     "output_type": "execute_result"
    }
   ],
   "source": [
    "file2 = open(r\"C:\\Users\\siddh\\OneDrive\\Desktop\\notes1.txt\",'a+')\n",
    "u = input(\"enter the sentence :   \")\n",
    "file2.write(f\"\\n{u}\")"
   ]
  },
  {
   "cell_type": "code",
   "execution_count": 185,
   "id": "ed6748bf",
   "metadata": {},
   "outputs": [],
   "source": [
    "file2 = open(r\"C:\\Users\\siddh\\OneDrive\\Desktop\\notes1.txt\",'r')"
   ]
  },
  {
   "cell_type": "code",
   "execution_count": 186,
   "id": "947cdc3b",
   "metadata": {},
   "outputs": [
    {
     "name": "stdout",
     "output_type": "stream",
     "text": [
      "\n",
      "I am learning Data Science\n"
     ]
    }
   ],
   "source": [
    "print(file2.read())"
   ]
  },
  {
   "cell_type": "code",
   "execution_count": null,
   "id": "b17886f6",
   "metadata": {},
   "outputs": [],
   "source": []
  }
 ],
 "metadata": {
  "kernelspec": {
   "display_name": "Python 3 (ipykernel)",
   "language": "python",
   "name": "python3"
  },
  "language_info": {
   "codemirror_mode": {
    "name": "ipython",
    "version": 3
   },
   "file_extension": ".py",
   "mimetype": "text/x-python",
   "name": "python",
   "nbconvert_exporter": "python",
   "pygments_lexer": "ipython3",
   "version": "3.11.4"
  }
 },
 "nbformat": 4,
 "nbformat_minor": 5
}
