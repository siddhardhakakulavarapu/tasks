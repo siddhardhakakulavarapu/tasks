{
 "cells": [
  {
   "cell_type": "markdown",
   "id": "f02710a3",
   "metadata": {},
   "source": [
    "\n",
    "**Task 1: Dictionary Basics**\n",
    "Create a Python program that defines a dictionary to store information about your `favorite book`. Include the title, author, publication year, and genre as key-value pairs. Print out the dictionary.and do atleast 5 dictionary methods on it.\n",
    "\n",
    "**Task 2: Dictionary Lookup**\n",
    "Write a Python program that simulates a simple dictionary for translating `English words to Spanish`. Define a dictionary containing a few English words as `keys` and their corresponding Spanish translations as `values`. Allow `users to enter` an English word, and then display its Spanish translation `if it exists` in the dictionary.(use google for English to Spanish translator)\n",
    "\n",
    "**Task 3: Student Grades**\n",
    "Create a Python program that stores the `grades of five students` in a dictionary. Allow users to input the names of the students and their respective grades. Calculate and display the `average grade` of the students.\n",
    "\n",
    "**Task 4: Contact List**\n",
    "Build a basic contact list using a dictionary. Initially, the dictionary can be `empty`. Allow users to `add new contacts` with `names and phone numbers`. Users should also be able to search for contacts by name and display their phone numbers(use in operator).\n",
    "\n",
    "**Task 5: Dictionary Iteration**\n",
    "Write a Python program that defines a dictionary containing the names of `fruits as keys` and their corresponding `colors as values` (e.g., 'apple': 'red').Do atleast 5 dictionary methods on it.\n"
   ]
  },
  {
   "cell_type": "markdown",
   "id": "c6c846c2",
   "metadata": {},
   "source": [
    "# Task 1"
   ]
  },
  {
   "cell_type": "code",
   "execution_count": 1,
   "id": "f7f1c72f",
   "metadata": {},
   "outputs": [],
   "source": [
    "fav = {\"Title\" : 'wings of fire',\"Author\" : 'A.P.J.Abdul kalam',\"publication year\" : '1999',\"genre\" : 'autobiography'}"
   ]
  },
  {
   "cell_type": "code",
   "execution_count": 2,
   "id": "e8cf9cd6",
   "metadata": {},
   "outputs": [
    {
     "data": {
      "text/plain": [
       "{'Title': 'wings of fire',\n",
       " 'Author': 'A.P.J.Abdul kalam',\n",
       " 'publication year': '1999',\n",
       " 'genre': 'autobiography'}"
      ]
     },
     "execution_count": 2,
     "metadata": {},
     "output_type": "execute_result"
    }
   ],
   "source": [
    "fav"
   ]
  },
  {
   "cell_type": "code",
   "execution_count": 3,
   "id": "1aab1dd6",
   "metadata": {},
   "outputs": [
    {
     "data": {
      "text/plain": [
       "'wings of fire'"
      ]
     },
     "execution_count": 3,
     "metadata": {},
     "output_type": "execute_result"
    }
   ],
   "source": [
    "fav.get(\"Title\")"
   ]
  },
  {
   "cell_type": "code",
   "execution_count": 4,
   "id": "c2406e93",
   "metadata": {},
   "outputs": [
    {
     "data": {
      "text/plain": [
       "dict_items([('Title', 'wings of fire'), ('Author', 'A.P.J.Abdul kalam'), ('publication year', '1999'), ('genre', 'autobiography')])"
      ]
     },
     "execution_count": 4,
     "metadata": {},
     "output_type": "execute_result"
    }
   ],
   "source": [
    "fav.items()"
   ]
  },
  {
   "cell_type": "code",
   "execution_count": 6,
   "id": "c3759c4d",
   "metadata": {},
   "outputs": [
    {
     "data": {
      "text/plain": [
       "dict_keys(['Title', 'Author', 'publication year', 'genre'])"
      ]
     },
     "execution_count": 6,
     "metadata": {},
     "output_type": "execute_result"
    }
   ],
   "source": [
    "fav.keys()"
   ]
  },
  {
   "cell_type": "code",
   "execution_count": 7,
   "id": "20ab9511",
   "metadata": {},
   "outputs": [
    {
     "data": {
      "text/plain": [
       "dict_values(['wings of fire', 'A.P.J.Abdul kalam', '1999', 'autobiography'])"
      ]
     },
     "execution_count": 7,
     "metadata": {},
     "output_type": "execute_result"
    }
   ],
   "source": [
    "fav.values()"
   ]
  },
  {
   "cell_type": "code",
   "execution_count": 8,
   "id": "cf92a05e",
   "metadata": {},
   "outputs": [
    {
     "data": {
      "text/plain": [
       "'autobiography'"
      ]
     },
     "execution_count": 8,
     "metadata": {},
     "output_type": "execute_result"
    }
   ],
   "source": [
    "fav.pop(\"genre\")"
   ]
  },
  {
   "cell_type": "code",
   "execution_count": 9,
   "id": "31a675a7",
   "metadata": {},
   "outputs": [
    {
     "data": {
      "text/plain": [
       "{'Title': 'wings of fire',\n",
       " 'Author': 'A.P.J.Abdul kalam',\n",
       " 'publication year': '1999'}"
      ]
     },
     "execution_count": 9,
     "metadata": {},
     "output_type": "execute_result"
    }
   ],
   "source": [
    "fav"
   ]
  },
  {
   "cell_type": "markdown",
   "id": "e1a1ff75",
   "metadata": {},
   "source": [
    "# Task 2"
   ]
  },
  {
   "cell_type": "code",
   "execution_count": 10,
   "id": "4c957e0a",
   "metadata": {},
   "outputs": [],
   "source": [
    "dict1 = {\"hello\":'hola',\"love\":'amar',\"how\":'cómo',\"happy\":'feliz'}"
   ]
  },
  {
   "cell_type": "code",
   "execution_count": 11,
   "id": "c976fe57",
   "metadata": {},
   "outputs": [
    {
     "name": "stdout",
     "output_type": "stream",
     "text": [
      "enter the english word : love\n"
     ]
    },
    {
     "data": {
      "text/plain": [
       "'amar'"
      ]
     },
     "execution_count": 11,
     "metadata": {},
     "output_type": "execute_result"
    }
   ],
   "source": [
    "dict1.pop(input(\"enter the english word : \"))"
   ]
  },
  {
   "cell_type": "code",
   "execution_count": 12,
   "id": "edd5ba4d",
   "metadata": {},
   "outputs": [
    {
     "data": {
      "text/plain": [
       "{'hello': 'hola', 'how': 'cómo', 'happy': 'feliz'}"
      ]
     },
     "execution_count": 12,
     "metadata": {},
     "output_type": "execute_result"
    }
   ],
   "source": [
    "dict1"
   ]
  },
  {
   "cell_type": "markdown",
   "id": "bb170b3e",
   "metadata": {},
   "source": [
    "# Task 3"
   ]
  },
  {
   "cell_type": "code",
   "execution_count": 25,
   "id": "a9252c80",
   "metadata": {},
   "outputs": [
    {
     "name": "stdout",
     "output_type": "stream",
     "text": [
      "enter name of student 1 :  sai \n",
      "enter the grade of student 1: 10\n",
      "enter name of student 2 : abhi\n",
      "enter the grade of student 2 : 10\n",
      "enter name of student 3 : pavan\n",
      "enter the grade of student 3 : 10\n",
      "enter name of  student 4 : chid\n",
      "enter the grade of student 4 : 9\n",
      "enter name of student 5 : sid\n",
      "enter the grade of student 5 : 8\n"
     ]
    }
   ],
   "source": [
    "student ={}\n",
    "name = input(\"enter name of student 1 :  \") \n",
    "grade = int(input(\"enter the grade of student 1: \"))\n",
    "name1 = input(\"enter name of student 2 : \")\n",
    "grade1 = int(input(\"enter the grade of student 2 : \"))\n",
    "name2 = input(\"enter name of student 3 : \")\n",
    "grade2 = int(input(\"enter the grade of student 3 : \"))\n",
    "name3 = input(\"enter name of  student 4 : \")\n",
    "grade3 = int(input(\"enter the grade of student 4 : \"))\n",
    "name4 = input(\"enter name of student 5 : \")\n",
    "grade4 = int(input(\"enter the grade of student 5 : \"))"
   ]
  },
  {
   "cell_type": "code",
   "execution_count": 27,
   "id": "26b33fe3",
   "metadata": {},
   "outputs": [],
   "source": [
    "student.update({name:grade,name1:grade1,name2:grade2,name3:grade3,name4:grade4})"
   ]
  },
  {
   "cell_type": "code",
   "execution_count": 28,
   "id": "510cdef6",
   "metadata": {},
   "outputs": [
    {
     "data": {
      "text/plain": [
       "{'sai ': 10, 'abhi': 10, 'pavan': 10, 'chid': 9, 'sid': 8}"
      ]
     },
     "execution_count": 28,
     "metadata": {},
     "output_type": "execute_result"
    }
   ],
   "source": [
    "student"
   ]
  },
  {
   "cell_type": "code",
   "execution_count": 29,
   "id": "9e46e15d",
   "metadata": {},
   "outputs": [],
   "source": [
    "sum1 = sum(student.values())\n",
    "tot = len(student.keys())"
   ]
  },
  {
   "cell_type": "code",
   "execution_count": 30,
   "id": "7aeead16",
   "metadata": {},
   "outputs": [],
   "source": [
    "avg = sum1/tot"
   ]
  },
  {
   "cell_type": "code",
   "execution_count": 31,
   "id": "ee60c528",
   "metadata": {},
   "outputs": [
    {
     "data": {
      "text/plain": [
       "9.4"
      ]
     },
     "execution_count": 31,
     "metadata": {},
     "output_type": "execute_result"
    }
   ],
   "source": [
    "avg"
   ]
  },
  {
   "cell_type": "markdown",
   "id": "e981efda",
   "metadata": {},
   "source": [
    "# Task 4"
   ]
  },
  {
   "cell_type": "code",
   "execution_count": 33,
   "id": "9605dc59",
   "metadata": {},
   "outputs": [
    {
     "name": "stdout",
     "output_type": "stream",
     "text": [
      "enter name 1 : chid\n",
      "enter no.1  : 9876543234\n",
      "enter name 2  : abhi\n",
      "enter no.2  : 7569831655\n",
      "enter name 3  : raj\n",
      "enter no.3 : 8765890432\n"
     ]
    }
   ],
   "source": [
    "contacts = {}\n",
    "contact1 = input(\"enter name 1 : \")\n",
    "num1 = int(input(\"enter no.1  : \"))\n",
    "contact2= input(\"enter name 2  : \")\n",
    "num2= int(input(\"enter no.2  : \"))\n",
    "contact3=input(\"enter name 3  : \")    \n",
    "num3=int(input(\"enter no.3 : \"))"
   ]
  },
  {
   "cell_type": "code",
   "execution_count": 35,
   "id": "6c374741",
   "metadata": {},
   "outputs": [],
   "source": [
    "contacts.update({contact1:num1,contact2:num2,contact3:num3})"
   ]
  },
  {
   "cell_type": "code",
   "execution_count": 36,
   "id": "963fca4a",
   "metadata": {},
   "outputs": [
    {
     "data": {
      "text/plain": [
       "{'chid': 9876543234, 'abhi': 7569831655, 'raj': 8765890432}"
      ]
     },
     "execution_count": 36,
     "metadata": {},
     "output_type": "execute_result"
    }
   ],
   "source": [
    "contacts"
   ]
  },
  {
   "cell_type": "code",
   "execution_count": 38,
   "id": "506f6f7f",
   "metadata": {},
   "outputs": [
    {
     "data": {
      "text/plain": [
       "9876543234"
      ]
     },
     "execution_count": 38,
     "metadata": {},
     "output_type": "execute_result"
    }
   ],
   "source": [
    "contacts['chid']"
   ]
  },
  {
   "cell_type": "code",
   "execution_count": 40,
   "id": "7edb429f",
   "metadata": {},
   "outputs": [
    {
     "data": {
      "text/plain": [
       "True"
      ]
     },
     "execution_count": 40,
     "metadata": {},
     "output_type": "execute_result"
    }
   ],
   "source": [
    "'abhi' in contacts           # in operator"
   ]
  },
  {
   "cell_type": "markdown",
   "id": "3c4cba86",
   "metadata": {},
   "source": [
    "# Task 5"
   ]
  },
  {
   "cell_type": "code",
   "execution_count": 41,
   "id": "1a620e7a",
   "metadata": {},
   "outputs": [],
   "source": [
    "fruits = {\"apple\":'red',\"guava\":'green',\"banana\":'yellow',\"grape\":\"violet\",\"orange\":'orange'}"
   ]
  },
  {
   "cell_type": "code",
   "execution_count": 42,
   "id": "da21c6a0",
   "metadata": {},
   "outputs": [
    {
     "data": {
      "text/plain": [
       "{'apple': 'red',\n",
       " 'guava': 'green',\n",
       " 'banana': 'yellow',\n",
       " 'grape': 'violet',\n",
       " 'orange': 'orange'}"
      ]
     },
     "execution_count": 42,
     "metadata": {},
     "output_type": "execute_result"
    }
   ],
   "source": [
    "fruits"
   ]
  },
  {
   "cell_type": "code",
   "execution_count": 44,
   "id": "c330f515",
   "metadata": {},
   "outputs": [
    {
     "data": {
      "text/plain": [
       "'red'"
      ]
     },
     "execution_count": 44,
     "metadata": {},
     "output_type": "execute_result"
    }
   ],
   "source": [
    "fruits.get(\"apple\")"
   ]
  },
  {
   "cell_type": "code",
   "execution_count": 45,
   "id": "1ee25cb3",
   "metadata": {},
   "outputs": [
    {
     "data": {
      "text/plain": [
       "dict_keys(['apple', 'guava', 'banana', 'grape', 'orange'])"
      ]
     },
     "execution_count": 45,
     "metadata": {},
     "output_type": "execute_result"
    }
   ],
   "source": [
    "fruits.keys()"
   ]
  },
  {
   "cell_type": "code",
   "execution_count": 46,
   "id": "a8a797e6",
   "metadata": {},
   "outputs": [
    {
     "data": {
      "text/plain": [
       "dict_values(['red', 'green', 'yellow', 'violet', 'orange'])"
      ]
     },
     "execution_count": 46,
     "metadata": {},
     "output_type": "execute_result"
    }
   ],
   "source": [
    "fruits.values()"
   ]
  },
  {
   "cell_type": "code",
   "execution_count": 48,
   "id": "1358e7bb",
   "metadata": {},
   "outputs": [
    {
     "data": {
      "text/plain": [
       "dict_items([('apple', 'red'), ('guava', 'green'), ('banana', 'yellow'), ('grape', 'violet'), ('orange', 'orange')])"
      ]
     },
     "execution_count": 48,
     "metadata": {},
     "output_type": "execute_result"
    }
   ],
   "source": [
    "fruits.items()"
   ]
  },
  {
   "cell_type": "code",
   "execution_count": 49,
   "id": "c0fd8f94",
   "metadata": {},
   "outputs": [
    {
     "data": {
      "text/plain": [
       "'green'"
      ]
     },
     "execution_count": 49,
     "metadata": {},
     "output_type": "execute_result"
    }
   ],
   "source": [
    "fruits.pop(\"guava\")"
   ]
  },
  {
   "cell_type": "code",
   "execution_count": 50,
   "id": "4ce56e15",
   "metadata": {},
   "outputs": [
    {
     "data": {
      "text/plain": [
       "{'apple': 'red', 'banana': 'yellow', 'grape': 'violet', 'orange': 'orange'}"
      ]
     },
     "execution_count": 50,
     "metadata": {},
     "output_type": "execute_result"
    }
   ],
   "source": [
    "fruits"
   ]
  },
  {
   "cell_type": "code",
   "execution_count": 52,
   "id": "917b225d",
   "metadata": {},
   "outputs": [],
   "source": [
    "fruits.update({\"strawberry\":'pink'})"
   ]
  },
  {
   "cell_type": "code",
   "execution_count": 53,
   "id": "a9a7289b",
   "metadata": {},
   "outputs": [
    {
     "data": {
      "text/plain": [
       "{'apple': 'red',\n",
       " 'banana': 'yellow',\n",
       " 'grape': 'violet',\n",
       " 'orange': 'orange',\n",
       " 'strawberry': 'pink'}"
      ]
     },
     "execution_count": 53,
     "metadata": {},
     "output_type": "execute_result"
    }
   ],
   "source": [
    "fruits"
   ]
  },
  {
   "cell_type": "code",
   "execution_count": null,
   "id": "16ff81d3",
   "metadata": {},
   "outputs": [],
   "source": []
  }
 ],
 "metadata": {
  "kernelspec": {
   "display_name": "Python 3 (ipykernel)",
   "language": "python",
   "name": "python3"
  },
  "language_info": {
   "codemirror_mode": {
    "name": "ipython",
    "version": 3
   },
   "file_extension": ".py",
   "mimetype": "text/x-python",
   "name": "python",
   "nbconvert_exporter": "python",
   "pygments_lexer": "ipython3",
   "version": "3.11.4"
  }
 },
 "nbformat": 4,
 "nbformat_minor": 5
}
