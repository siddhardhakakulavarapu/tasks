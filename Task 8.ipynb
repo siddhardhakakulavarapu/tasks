{
 "cells": [
  {
   "cell_type": "markdown",
   "id": "21c2b7b2",
   "metadata": {},
   "source": [
    "\n",
    "**Task 1: Basic If-Else Statements**\n",
    "Write a Python program that takes an `integer as input` from the user and prints whether it is `multiple of 3 or not` using if-else statements.\n",
    "\n",
    "**Task 2: Nested If Statements**\n",
    "Create a program that `asks the user` for their `age` and `nationality`. Depending on their age and nationality, display a different message using nested if statements. For example, if they are under 18 and from the USA, display `\"You are a minor from the USA.\"`\n",
    "\n",
    "**Task 3: Grade Calculator**\n",
    "Write a program that takes a student's score as input and converts it to a letter grade (A, B, C, D, or F) using if-elif-else statements. Use the following grading scale:\n",
    "- A: 90-100\n",
    "- B: 80-89\n",
    "- C: 70-79\n",
    "- D: 60-69\n",
    "- F: Below 60\n",
    "\n",
    "**Task 4: Leap Year Checker**\n",
    "Create a Python program that checks if a given year is a leap year or not. Use conditional statements to determine whether the year is divisible by 4, 100, and 400 to decide if it's a leap year.\n",
    "\n",
    "**Task 5: BMI Calculator**\n",
    "Write a program that calculates a person's Body Mass Index (BMI) based on their height and weight. Then, use conditional statements to categorize the BMI as Underweight, Normal, Overweight, or Obese. Provide guidance on the healthy range for BMI.(use BMI Formula)\n",
    "\n",
    "**Task 6: Calculator with Menu**\n",
    "Build a simple calculator program that provides a menu with options for addition, subtraction, multiplication, and division. `Take user input for two numbers`and an `operation choice`. Use conditional statements to perform the selected operation and display the result.\n",
    "\n",
    "**Task 7: Temperature Converter**\n",
    "Write a program that `converts temperatures between Celsius and Fahrenhei`t. Allow the user to `choose` the conversion direction and input the temperature value. Use conditional statements to perform the conversion based on the `user's choice`.(Do with conversion formula)\n"
   ]
  },
  {
   "cell_type": "markdown",
   "id": "24db0562",
   "metadata": {},
   "source": [
    "# Task 1"
   ]
  },
  {
   "cell_type": "code",
   "execution_count": 1,
   "id": "2e45b106",
   "metadata": {},
   "outputs": [
    {
     "name": "stdout",
     "output_type": "stream",
     "text": [
      "enter a number : 99\n"
     ]
    },
    {
     "data": {
      "text/plain": [
       "'It is a multiple of 3'"
      ]
     },
     "execution_count": 1,
     "metadata": {},
     "output_type": "execute_result"
    }
   ],
   "source": [
    "num = int(input(\"enter a number : \"))\n",
    "\"It is a multiple of 3\" if (num%3==0) else \"it is not multiple of 3\""
   ]
  },
  {
   "cell_type": "code",
   "execution_count": 2,
   "id": "f530641f",
   "metadata": {},
   "outputs": [
    {
     "name": "stdout",
     "output_type": "stream",
     "text": [
      "enter a number : 7\n"
     ]
    },
    {
     "data": {
      "text/plain": [
       "'it is not multiple of 3'"
      ]
     },
     "execution_count": 2,
     "metadata": {},
     "output_type": "execute_result"
    }
   ],
   "source": [
    "num = int(input(\"enter a number : \"))\n",
    "\"It is a multiple of 3\" if (num%3==0) else \"it is not multiple of 3\""
   ]
  },
  {
   "cell_type": "markdown",
   "id": "f5d09d13",
   "metadata": {},
   "source": [
    "# Task 2"
   ]
  },
  {
   "cell_type": "code",
   "execution_count": 1,
   "id": "543a55b1",
   "metadata": {},
   "outputs": [
    {
     "name": "stdout",
     "output_type": "stream",
     "text": [
      "enter your age : 22\n",
      "enter your nationality : India\n",
      "you are major from India\n"
     ]
    }
   ],
   "source": [
    "user = int(input(\"enter your age : \"))\n",
    "nat = input(\"enter your nationality : \")\n",
    "if (user<18) and (user>0):\n",
    "    if nat == \"India\":\n",
    "        print(f\"You are a minor from {nat}\")\n",
    "elif user>=18 :\n",
    "    print(f\"you are major from {nat}\")\n",
    "else :\n",
    "    print(\"enter a valid age\")"
   ]
  },
  {
   "cell_type": "code",
   "execution_count": 2,
   "id": "01683373",
   "metadata": {},
   "outputs": [
    {
     "name": "stdout",
     "output_type": "stream",
     "text": [
      "enter your age: -8\n",
      "enter your nationality : USA\n",
      "enter a valid age\n"
     ]
    }
   ],
   "source": [
    "user = int(input(\"enter your age: \"))\n",
    "nat = input(\"enter your nationality : \")\n",
    "if (user<18) and (user>0):\n",
    "    if nat == \"India\":\n",
    "        print(f\"You are a minor from {nat}.\")\n",
    "elif user>=18 :\n",
    "    print(f\"you are major from {nat}\")\n",
    "else :\n",
    "    print(\"enter a valid age\")"
   ]
  },
  {
   "cell_type": "markdown",
   "id": "3b160a54",
   "metadata": {},
   "source": [
    "# Task 3"
   ]
  },
  {
   "cell_type": "code",
   "execution_count": 4,
   "id": "b8f7c14f",
   "metadata": {},
   "outputs": [
    {
     "name": "stdout",
     "output_type": "stream",
     "text": [
      "enter your score : 67\n",
      "grade : D\n"
     ]
    }
   ],
   "source": [
    "score = int(input(\"enter your score : \"))\n",
    "if (score>=90) and (score<=100):\n",
    "    print(\"grade : A\")\n",
    "elif (score>=80) and (score<=89):\n",
    "     print(\"grade : B\")\n",
    "elif (score>=70) and (score<=79):\n",
    "     print(\"grade : C\")\n",
    "elif (score>=60) and (score<=69):\n",
    "     print(\"grade : D\")\n",
    "elif (score<60) and (score>0):\n",
    "    print(\"grade : F\")\n",
    "else :\n",
    "    print(\"enter a valid score\")"
   ]
  },
  {
   "cell_type": "markdown",
   "id": "a53a39a7",
   "metadata": {},
   "source": [
    "# Task 4"
   ]
  },
  {
   "cell_type": "code",
   "execution_count": 5,
   "id": "e886f213",
   "metadata": {},
   "outputs": [
    {
     "name": "stdout",
     "output_type": "stream",
     "text": [
      "Enter the year:2023\n",
      "2023 is not a leap year\n"
     ]
    }
   ],
   "source": [
    "year= int(input(\"Enter the year:\"))\n",
    "if(year%4==0) and (year%100 !=0) or (year%400==0):\n",
    "    print(f\"{year} is a leap year\")\n",
    "else:\n",
    "    print(f\"{year} is not a leap year\")"
   ]
  },
  {
   "cell_type": "code",
   "execution_count": 6,
   "id": "1286bc3c",
   "metadata": {},
   "outputs": [
    {
     "name": "stdout",
     "output_type": "stream",
     "text": [
      "Enter the year:2001\n",
      "2001 is not a leap year\n"
     ]
    }
   ],
   "source": [
    "year= int(input(\"Enter the year:\"))\n",
    "if(year%4==0) and (year%100 !=0) or (year%400==0):\n",
    "    print(f\"{year} is a leap year\")\n",
    "else:\n",
    "    print(f\"{year} is not a leap year\")"
   ]
  },
  {
   "cell_type": "code",
   "execution_count": 7,
   "id": "83a03cf6",
   "metadata": {},
   "outputs": [
    {
     "name": "stdout",
     "output_type": "stream",
     "text": [
      "Enter the year:2020\n",
      "2020 is a leap year\n"
     ]
    }
   ],
   "source": [
    "year= int(input(\"Enter the year:\"))\n",
    "if(year%4==0) and (year%100 !=0) or (year%400==0):\n",
    "    print(f\"{year} is a leap year\")\n",
    "else:\n",
    "    print(f\"{year} is not a leap year\")"
   ]
  },
  {
   "cell_type": "markdown",
   "id": "18bfbd79",
   "metadata": {},
   "source": [
    "# Task 5"
   ]
  },
  {
   "cell_type": "code",
   "execution_count": 6,
   "id": "5f35a2a8",
   "metadata": {},
   "outputs": [
    {
     "name": "stdout",
     "output_type": "stream",
     "text": [
      "enter the height : 5.9\n",
      "enter the weight : 74\n",
      "BMI is 2.125825912094226\n",
      "underweight\n"
     ]
    }
   ],
   "source": [
    "height = float(input(\"enter the height : \"))\n",
    "weight = float(input(\"enter the weight : \"))\n",
    "BMI = weight/(height**2)\n",
    "print(\"BMI is\",BMI)\n",
    "if (BMI<18.5) and (BMI>0):\n",
    "    print(\"underweight\") \n",
    "elif (BMI==18.5) and (BMI<=24.9):\n",
    "    print(\"Normal weight\")\n",
    "elif (BMI==25) and (BMI<=29.9):\n",
    "    print(\"Overweight\")\n",
    "elif (BMI>30):\n",
    "    print(\"obese\")\n",
    "else:\n",
    "    print(\"enter a valid height and weight\")"
   ]
  },
  {
   "cell_type": "markdown",
   "id": "cb33e270",
   "metadata": {},
   "source": [
    "# Task 6"
   ]
  },
  {
   "cell_type": "code",
   "execution_count": 11,
   "id": "3be57b14",
   "metadata": {},
   "outputs": [
    {
     "name": "stdout",
     "output_type": "stream",
     "text": [
      "enter number 1 : 30\n",
      "enter number 2 : 5\n",
      "enter an operation : multiplication\n",
      "multiplication of two numbers :  150\n"
     ]
    }
   ],
   "source": [
    "number1 = int(input(\"enter number 1 : \"))\n",
    "number2 = int(input(\"enter number 2 : \"))\n",
    "operation = input(\"enter an operation : \")\n",
    "if  operation == 'addition' :\n",
    "    print(\"addition of two numbers : \",number1+number2)\n",
    "elif (operation == 'subtraction'):\n",
    "    print(\"subtraction of two numbers : \",number1-number2)\n",
    "elif (operation == 'multiplication')  :\n",
    "    print(\"multiplication of two numbers : \",number1*number2)\n",
    "elif (operation == 'division') :\n",
    "    print(\"division of two numbers : \",number1/number2)\n",
    "else:\n",
    "    print(\"it is not valid\")"
   ]
  },
  {
   "cell_type": "code",
   "execution_count": 12,
   "id": "2ad3cc07",
   "metadata": {},
   "outputs": [
    {
     "name": "stdout",
     "output_type": "stream",
     "text": [
      "enter number 1 : 56\n",
      "enter number 2 : 3\n",
      "enter an operation : division\n",
      "division of two numbers :  18.666666666666668\n"
     ]
    }
   ],
   "source": [
    "number1 = int(input(\"enter number 1 : \"))\n",
    "number2 = int(input(\"enter number 2 : \"))\n",
    "operation = input(\"enter an operation : \")\n",
    "if  operation == 'addition' :\n",
    "    print(\"addition of two numbers : \",number1+number2)\n",
    "elif (operation == 'subtraction'):\n",
    "    print(\"subtraction of two numbers : \",number1-number2)\n",
    "elif (operation == 'multiplication')  :\n",
    "    print(\"multiplication of two numbers : \",number1*number2)\n",
    "elif (operation == 'division') :\n",
    "    print(\"division of two numbers : \",number1/number2)\n",
    "else:\n",
    "    print(\"it is not valid\")"
   ]
  },
  {
   "cell_type": "markdown",
   "id": "df65deb7",
   "metadata": {},
   "source": [
    "# Task 7"
   ]
  },
  {
   "cell_type": "code",
   "execution_count": 13,
   "id": "572ecead",
   "metadata": {},
   "outputs": [
    {
     "name": "stdout",
     "output_type": "stream",
     "text": [
      "enter the temperature : 98\n",
      "enter your choice : Farenheit\n",
      "temperature in farenheit :  208.4\n"
     ]
    }
   ],
   "source": [
    "temp= int(input(\"enter the temperature : \"))\n",
    "input1 = input(\"enter your choice : \")\n",
    "if input1 == \"Farenheit\" :\n",
    "    Farenheit = (9/5 * temp) + 32\n",
    "    print(\"temperature in farenheit : \",Farenheit)\n",
    "elif input1 == \"celsius\" :\n",
    "    celsius= (temp -32)*5/9\n",
    "    print(\"temperature in celsius is : \",celsius)\n",
    "else:\n",
    "    print(\"Enter valid choice\")"
   ]
  },
  {
   "cell_type": "code",
   "execution_count": null,
   "id": "9950d97e",
   "metadata": {},
   "outputs": [],
   "source": []
  }
 ],
 "metadata": {
  "kernelspec": {
   "display_name": "Python 3 (ipykernel)",
   "language": "python",
   "name": "python3"
  },
  "language_info": {
   "codemirror_mode": {
    "name": "ipython",
    "version": 3
   },
   "file_extension": ".py",
   "mimetype": "text/x-python",
   "name": "python",
   "nbconvert_exporter": "python",
   "pygments_lexer": "ipython3",
   "version": "3.11.4"
  }
 },
 "nbformat": 4,
 "nbformat_minor": 5
}
