{
 "cells": [
  {
   "cell_type": "markdown",
   "id": "fd99fb02",
   "metadata": {},
   "source": [
    "**Task 1**:\n",
    "1. Load the file 'about_python.txt'into your jupyter notebook.\n",
    "    a. Correct wrong statements about python fatures\n",
    "    b. How many charactaers present in the data\n",
    "    c. How many times 'Python' word is repeated.\n",
    "    d. after correcting all ..print complete valid features of the python.\n",
    "    \n",
    "**Task2**:\n",
    "\n",
    "2. Create a file 'File.txt'which expalains python file handling whatever you have learnt today(creating,reading,wring and appending...etc) in detail.That reaload the saved file(i.e File.txt) to jupyter notebook."
   ]
  },
  {
   "cell_type": "markdown",
   "id": "ab1013ff",
   "metadata": {},
   "source": [
    "# Task 1"
   ]
  },
  {
   "cell_type": "code",
   "execution_count": 2,
   "id": "f447bcfd",
   "metadata": {},
   "outputs": [],
   "source": [
    "f = open('about_python.txt','r')"
   ]
  },
  {
   "cell_type": "code",
   "execution_count": 4,
   "id": "ffd2ab1a",
   "metadata": {},
   "outputs": [],
   "source": [
    "r = f.read()"
   ]
  },
  {
   "cell_type": "code",
   "execution_count": 5,
   "id": "60ac94fb",
   "metadata": {},
   "outputs": [
    {
     "data": {
      "text/plain": [
       "'Python supports object-oriented programming (OOP) concepts.\\nPython is a compiled language.\\nPython has a rich ecosystem of third-party libraries.\\nPython is a paid programming language\\nPython uses indentation for code block structuring.\\nPython is statically Typed Language\\nPython only supports double quotes for string literals.\\nPython can only be used for web development.\\nPython was created by Elon Musk.'"
      ]
     },
     "execution_count": 5,
     "metadata": {},
     "output_type": "execute_result"
    }
   ],
   "source": [
    "r"
   ]
  },
  {
   "cell_type": "code",
   "execution_count": 13,
   "id": "2825808e",
   "metadata": {},
   "outputs": [],
   "source": [
    "m1 = r.replace('compiled','interpreted')              # a\n",
    "m2 = m1.replace('paid','open source')\n",
    "m3 = m2.replace('statically','dynamically')\n",
    "m4 = m3.replace('only supports double quotes','supports single , double ,as well as triple quotes')\n",
    "m5 = m4.replace('can only be used for web development.','is used for web development,software development,data visualisation,etc.')\n",
    "m6 = m5.replace('Elon Musk','Guido van Rossum')"
   ]
  },
  {
   "cell_type": "code",
   "execution_count": 16,
   "id": "a0288e44",
   "metadata": {},
   "outputs": [
    {
     "data": {
      "text/plain": [
       "404"
      ]
     },
     "execution_count": 16,
     "metadata": {},
     "output_type": "execute_result"
    }
   ],
   "source": [
    "len(r)                       # b"
   ]
  },
  {
   "cell_type": "code",
   "execution_count": 12,
   "id": "2864fcc4",
   "metadata": {},
   "outputs": [
    {
     "data": {
      "text/plain": [
       "9"
      ]
     },
     "execution_count": 12,
     "metadata": {},
     "output_type": "execute_result"
    }
   ],
   "source": [
    "m6.count('Python')         # c "
   ]
  },
  {
   "cell_type": "code",
   "execution_count": 17,
   "id": "7f1243f3",
   "metadata": {},
   "outputs": [
    {
     "name": "stdout",
     "output_type": "stream",
     "text": [
      "Python supports object-oriented programming (OOP) concepts.\n",
      "Python is a interpreted language.\n",
      "Python has a rich ecosystem of third-party libraries.\n",
      "Python is a open source programming language\n",
      "Python uses indentation for code block structuring.\n",
      "Python is dynamically Typed Language\n",
      "Python supports single , double ,as well as triple quotes for string literals.\n",
      "Python is used for web development,software development,data visualisation,etc.\n",
      "Python was created by Guido van Rossum.\n"
     ]
    }
   ],
   "source": [
    "print(m6)          # d"
   ]
  },
  {
   "cell_type": "markdown",
   "id": "8b28ec72",
   "metadata": {},
   "source": [
    "# Task 2"
   ]
  },
  {
   "cell_type": "code",
   "execution_count": 28,
   "id": "51b170e7",
   "metadata": {},
   "outputs": [],
   "source": [
    "file1 = open(r\"C:\\Users\\siddh\\OneDrive\\Desktop\\file handling.txt\")"
   ]
  },
  {
   "cell_type": "code",
   "execution_count": 29,
   "id": "83419833",
   "metadata": {},
   "outputs": [
    {
     "data": {
      "text/plain": [
       "''"
      ]
     },
     "execution_count": 29,
     "metadata": {},
     "output_type": "execute_result"
    }
   ],
   "source": [
    "file1.read()"
   ]
  },
  {
   "cell_type": "code",
   "execution_count": 30,
   "id": "19537712",
   "metadata": {},
   "outputs": [],
   "source": [
    "file1.close()"
   ]
  },
  {
   "cell_type": "code",
   "execution_count": 43,
   "id": "6fe7f529",
   "metadata": {},
   "outputs": [],
   "source": [
    "file1 = open('file handling','w')"
   ]
  },
  {
   "cell_type": "code",
   "execution_count": 44,
   "id": "a0a30632",
   "metadata": {},
   "outputs": [
    {
     "data": {
      "text/plain": [
       "452"
      ]
     },
     "execution_count": 44,
     "metadata": {},
     "output_type": "execute_result"
    }
   ],
   "source": [
    "file1.write('File handling\\nIt is used to read,write,append,create files\\nRead() is used to read the information in the file\\nwrite() is used to write the info. to the existing file which replaces the existing info.,if the file is not existing it creates a new file\\nappend() is used to join info. to file without losing the existing info.\\ncreate() is used to create new file which is not existed,if there is the file existing on same name then it will throw an errror\\n')"
   ]
  },
  {
   "cell_type": "code",
   "execution_count": 46,
   "id": "bab7ef52",
   "metadata": {},
   "outputs": [],
   "source": [
    "file1.close()"
   ]
  },
  {
   "cell_type": "code",
   "execution_count": 47,
   "id": "6d875d6b",
   "metadata": {},
   "outputs": [],
   "source": [
    "file1 = open('file handling','r')"
   ]
  },
  {
   "cell_type": "code",
   "execution_count": 48,
   "id": "97e724f2",
   "metadata": {},
   "outputs": [
    {
     "name": "stdout",
     "output_type": "stream",
     "text": [
      "File handling\n",
      "It is used to read,write,append,create files\n",
      "Read() is used to read the information in the file\n",
      "write() is used to write the info. to the existing file which replaces the existing info.,if the file is not existing it creates a new file\n",
      "append() is used to join info. to file without losing the existing info.\n",
      "create() is used to create new file which is not existed,if there is the file existing on same name then it will throw an errror\n",
      "\n"
     ]
    }
   ],
   "source": [
    "print(file1.read())"
   ]
  },
  {
   "cell_type": "code",
   "execution_count": null,
   "id": "28ab5cdb",
   "metadata": {},
   "outputs": [],
   "source": []
  }
 ],
 "metadata": {
  "kernelspec": {
   "display_name": "Python 3 (ipykernel)",
   "language": "python",
   "name": "python3"
  },
  "language_info": {
   "codemirror_mode": {
    "name": "ipython",
    "version": 3
   },
   "file_extension": ".py",
   "mimetype": "text/x-python",
   "name": "python",
   "nbconvert_exporter": "python",
   "pygments_lexer": "ipython3",
   "version": "3.11.4"
  }
 },
 "nbformat": 4,
 "nbformat_minor": 5
}
