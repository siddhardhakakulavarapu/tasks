{
 "cells": [
  {
   "cell_type": "markdown",
   "id": "110812e8",
   "metadata": {},
   "source": [
    "Assignment Tasks on String Escape Characters, Indexing, and Slicing:\n",
    "\n",
    "**String Escape Characters:**\n",
    "\n",
    "Task 1:\n",
    "1. Create a string containing a sentence that includes both single and double quotes.\n",
    "2. Use escape characters to include quotes within the string.\n",
    "3. Print the modified string.\n",
    "\n",
    "Task 2:\n",
    "1. Declare a string with a backslash \\ character in it.\n",
    "2. Demonstrate the use of the escape character to print the backslash itself.\n",
    "3. Print the resulting string.\n",
    "\n",
    "Task 3:\n",
    "1. Construct a string containing newline and tab escape sequences.\n",
    "2. Print the string to display the formatted output.\n",
    "\n",
    "**Indexing and Slicing:**\n",
    "\n",
    "Task 4:\n",
    "1.  sentence = \"I want to become Data Scientist\".\n",
    "2. Access and print the `first character` of the string using indexing.\n",
    "3. Access and print the `last character` of the string using negative indexing.\n",
    "\n",
    "Task 5:\n",
    "1. What are `possible ways` yo extract `Scientist`(use forward and reverse)\n",
    "2. Use slicing to extract and print the `first word` from the string.\n",
    "3. Use slicing to extract and print the `last three` characters of the string.\n",
    "\n",
    "Task 6:\n",
    "1. name = \"Innomatics Reserach Labs\"\n",
    "2. Apply slicing to extract a substring that includes the `second to fifth` characters.\n",
    "3. `Print` the extracted substring.\n",
    "\n",
    "Task 7:\n",
    "1. string = \"Python@1234\"\n",
    "2. Use slicing to extract every second character from the string.\n",
    "3. Print the resulting sliced string.\n",
    "\n",
    "Task 8:\n",
    "1.  print last five letters.\n",
    "2. Utilize slicing to reverse the word order in the string.\n",
    "3. Print the string with the words in the reversed order.\n",
    "\n",
    "Task 9:\n",
    "1. a = \"123123123\"\n",
    "2. Apply slicing to extract only the numeric characters at odd positions.\n",
    "3. Print the sliced result.\n",
    "\n",
    "Remember to include explanations or comments for each task's code to ensure clarity. Additionally, encourage students to experiment further with different escape characters and slicing techniques beyond the provided tasks to deepen their understanding."
   ]
  },
  {
   "cell_type": "markdown",
   "id": "bc50a8e8",
   "metadata": {},
   "source": [
    "## Task 1"
   ]
  },
  {
   "cell_type": "code",
   "execution_count": 61,
   "id": "7608f3bf",
   "metadata": {},
   "outputs": [
    {
     "name": "stdout",
     "output_type": "stream",
     "text": [
      "I am \"siddharda\" I am learning 'data science'\n"
     ]
    }
   ],
   "source": [
    "string = \"I am \\\"siddharda\\\" I am learning \\'data science\\'\"\n",
    "print(string)"
   ]
  },
  {
   "cell_type": "markdown",
   "id": "aa5d309d",
   "metadata": {},
   "source": [
    "## Task 2"
   ]
  },
  {
   "cell_type": "code",
   "execution_count": 65,
   "id": "bd592511",
   "metadata": {},
   "outputs": [
    {
     "name": "stdout",
     "output_type": "stream",
     "text": [
      "sum\\total number of elements\n"
     ]
    }
   ],
   "source": [
    "average = str(\"sum\\\\total number of elements\")\n",
    "print(average)"
   ]
  },
  {
   "cell_type": "markdown",
   "id": "bcaa748b",
   "metadata": {},
   "source": [
    "## Task 3"
   ]
  },
  {
   "cell_type": "code",
   "execution_count": 11,
   "id": "f008a4da",
   "metadata": {},
   "outputs": [],
   "source": [
    "string = \"Hello\\n world\""
   ]
  },
  {
   "cell_type": "code",
   "execution_count": 12,
   "id": "1eaa5cd3",
   "metadata": {},
   "outputs": [
    {
     "name": "stdout",
     "output_type": "stream",
     "text": [
      "Hello\n",
      " world\n"
     ]
    }
   ],
   "source": [
    "print(string)"
   ]
  },
  {
   "cell_type": "code",
   "execution_count": 13,
   "id": "3b12df14",
   "metadata": {},
   "outputs": [],
   "source": [
    "string_ = \"Hello\\tWorld\""
   ]
  },
  {
   "cell_type": "code",
   "execution_count": 14,
   "id": "5b2d9b82",
   "metadata": {},
   "outputs": [
    {
     "name": "stdout",
     "output_type": "stream",
     "text": [
      "Hello\tWorld\n"
     ]
    }
   ],
   "source": [
    "print(string_)"
   ]
  },
  {
   "cell_type": "markdown",
   "id": "590d1dd1",
   "metadata": {},
   "source": [
    "## INDEXING AND SLICING"
   ]
  },
  {
   "cell_type": "markdown",
   "id": "62484ca6",
   "metadata": {},
   "source": [
    "## Task 4"
   ]
  },
  {
   "cell_type": "code",
   "execution_count": 21,
   "id": "19f9e02a",
   "metadata": {},
   "outputs": [],
   "source": [
    "name = \"I want to become Data Scientist\""
   ]
  },
  {
   "cell_type": "code",
   "execution_count": 22,
   "id": "32a7f53b",
   "metadata": {},
   "outputs": [
    {
     "data": {
      "text/plain": [
       "'I'"
      ]
     },
     "execution_count": 22,
     "metadata": {},
     "output_type": "execute_result"
    }
   ],
   "source": [
    "name[0]"
   ]
  },
  {
   "cell_type": "code",
   "execution_count": 23,
   "id": "3ce9ada9",
   "metadata": {},
   "outputs": [
    {
     "data": {
      "text/plain": [
       "'t'"
      ]
     },
     "execution_count": 23,
     "metadata": {},
     "output_type": "execute_result"
    }
   ],
   "source": [
    "name[-1]"
   ]
  },
  {
   "cell_type": "markdown",
   "id": "e2b08d17",
   "metadata": {},
   "source": [
    "## Task 5"
   ]
  },
  {
   "cell_type": "code",
   "execution_count": 25,
   "id": "9d2e3dce",
   "metadata": {},
   "outputs": [],
   "source": [
    "name = \"I want to become Data Scientist\""
   ]
  },
  {
   "cell_type": "code",
   "execution_count": 27,
   "id": "f88b82fb",
   "metadata": {},
   "outputs": [
    {
     "data": {
      "text/plain": [
       "'Scientist'"
      ]
     },
     "execution_count": 27,
     "metadata": {},
     "output_type": "execute_result"
    }
   ],
   "source": [
    "name[22:31:1]"
   ]
  },
  {
   "cell_type": "code",
   "execution_count": 29,
   "id": "bb44ea46",
   "metadata": {},
   "outputs": [
    {
     "data": {
      "text/plain": [
       "'tsitneicS'"
      ]
     },
     "execution_count": 29,
     "metadata": {},
     "output_type": "execute_result"
    }
   ],
   "source": [
    "name[30:21:-1]"
   ]
  },
  {
   "cell_type": "code",
   "execution_count": 32,
   "id": "74bfe553",
   "metadata": {},
   "outputs": [
    {
     "data": {
      "text/plain": [
       "'tsitneicS'"
      ]
     },
     "execution_count": 32,
     "metadata": {},
     "output_type": "execute_result"
    }
   ],
   "source": [
    "name[-1:-10:-1]"
   ]
  },
  {
   "cell_type": "code",
   "execution_count": 36,
   "id": "b1b08282",
   "metadata": {},
   "outputs": [
    {
     "data": {
      "text/plain": [
       "'Scientist'"
      ]
     },
     "execution_count": 36,
     "metadata": {},
     "output_type": "execute_result"
    }
   ],
   "source": [
    "name[-9::1]"
   ]
  },
  {
   "cell_type": "code",
   "execution_count": 37,
   "id": "c161d127",
   "metadata": {},
   "outputs": [],
   "source": [
    "string = \"I want to become Data Scientist\""
   ]
  },
  {
   "cell_type": "code",
   "execution_count": 38,
   "id": "8237a5e2",
   "metadata": {},
   "outputs": [
    {
     "data": {
      "text/plain": [
       "'I'"
      ]
     },
     "execution_count": 38,
     "metadata": {},
     "output_type": "execute_result"
    }
   ],
   "source": [
    "string[0:1:1]"
   ]
  },
  {
   "cell_type": "code",
   "execution_count": 39,
   "id": "4deee0a1",
   "metadata": {},
   "outputs": [
    {
     "data": {
      "text/plain": [
       "'ist'"
      ]
     },
     "execution_count": 39,
     "metadata": {},
     "output_type": "execute_result"
    }
   ],
   "source": [
    "string[28:31:1]"
   ]
  },
  {
   "cell_type": "markdown",
   "id": "87792e9a",
   "metadata": {},
   "source": [
    "## Task 6"
   ]
  },
  {
   "cell_type": "code",
   "execution_count": 40,
   "id": "47a3b516",
   "metadata": {},
   "outputs": [],
   "source": [
    "name = \"Innomatics Reserach Labs\""
   ]
  },
  {
   "cell_type": "code",
   "execution_count": 42,
   "id": "9c5c9262",
   "metadata": {},
   "outputs": [
    {
     "data": {
      "text/plain": [
       "'nnom'"
      ]
     },
     "execution_count": 42,
     "metadata": {},
     "output_type": "execute_result"
    }
   ],
   "source": [
    "name[1:5:1]"
   ]
  },
  {
   "cell_type": "markdown",
   "id": "94dea76b",
   "metadata": {},
   "source": [
    "## Task 7"
   ]
  },
  {
   "cell_type": "code",
   "execution_count": 43,
   "id": "d25e32bf",
   "metadata": {},
   "outputs": [],
   "source": [
    "string = \"Python@1234\""
   ]
  },
  {
   "cell_type": "code",
   "execution_count": 44,
   "id": "7c1c1748",
   "metadata": {},
   "outputs": [
    {
     "data": {
      "text/plain": [
       "'Pto@24'"
      ]
     },
     "execution_count": 44,
     "metadata": {},
     "output_type": "execute_result"
    }
   ],
   "source": [
    "string[::2]"
   ]
  },
  {
   "cell_type": "markdown",
   "id": "3b231982",
   "metadata": {},
   "source": [
    "## Task 8"
   ]
  },
  {
   "cell_type": "code",
   "execution_count": 45,
   "id": "d693a13d",
   "metadata": {},
   "outputs": [],
   "source": [
    "string = \"Python@1234\""
   ]
  },
  {
   "cell_type": "code",
   "execution_count": 47,
   "id": "2f0de208",
   "metadata": {},
   "outputs": [
    {
     "data": {
      "text/plain": [
       "'@1234'"
      ]
     },
     "execution_count": 47,
     "metadata": {},
     "output_type": "execute_result"
    }
   ],
   "source": [
    "string[6::]"
   ]
  },
  {
   "cell_type": "code",
   "execution_count": 59,
   "id": "4529e08a",
   "metadata": {},
   "outputs": [
    {
     "data": {
      "text/plain": [
       "'4321@nohtyP'"
      ]
     },
     "execution_count": 59,
     "metadata": {},
     "output_type": "execute_result"
    }
   ],
   "source": [
    "string[-1::-1] # backward slicing"
   ]
  },
  {
   "cell_type": "code",
   "execution_count": 60,
   "id": "a4c6369d",
   "metadata": {},
   "outputs": [
    {
     "data": {
      "text/plain": [
       "'4321@nohtyP'"
      ]
     },
     "execution_count": 60,
     "metadata": {},
     "output_type": "execute_result"
    }
   ],
   "source": [
    "string[10::-1] # forward slicing "
   ]
  },
  {
   "cell_type": "markdown",
   "id": "03af537a",
   "metadata": {},
   "source": [
    "## Task 9"
   ]
  },
  {
   "cell_type": "code",
   "execution_count": 62,
   "id": "e5d94ee6",
   "metadata": {},
   "outputs": [],
   "source": [
    "a = \"123123123\""
   ]
  },
  {
   "cell_type": "code",
   "execution_count": 64,
   "id": "c05f2a14",
   "metadata": {},
   "outputs": [
    {
     "data": {
      "text/plain": [
       "'2132'"
      ]
     },
     "execution_count": 64,
     "metadata": {},
     "output_type": "execute_result"
    }
   ],
   "source": [
    "a[1::2]"
   ]
  }
 ],
 "metadata": {
  "kernelspec": {
   "display_name": "Python 3 (ipykernel)",
   "language": "python",
   "name": "python3"
  },
  "language_info": {
   "codemirror_mode": {
    "name": "ipython",
    "version": 3
   },
   "file_extension": ".py",
   "mimetype": "text/x-python",
   "name": "python",
   "nbconvert_exporter": "python",
   "pygments_lexer": "ipython3",
   "version": "3.11.4"
  }
 },
 "nbformat": 4,
 "nbformat_minor": 5
}
