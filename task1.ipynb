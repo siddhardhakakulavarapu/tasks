{
 "cells": [
  {
   "cell_type": "markdown",
   "id": "5efd181d",
   "metadata": {},
   "source": [
    "# Check the valid Identifiers and invalid identifers using Python"
   ]
  },
  {
   "cell_type": "markdown",
   "id": "aebe5a40",
   "metadata": {},
   "source": [
    "1. **Run all the identifiers and seprate valid and Invalid Identifiers?**\n",
    "\n",
    "2. **Why Python treating them as invalid Identifers.Explain?**"
   ]
  },
  {
   "cell_type": "markdown",
   "id": "77c112d3",
   "metadata": {},
   "source": [
    "* my_variable = 25\n",
    "\n",
    "  **Valid**\n",
    "\n",
    "* counter = 40.7\n",
    "\n",
    "  **valid**\n",
    "\n",
    "\n",
    "* _total = \"Hello\"\n",
    "\n",
    "    **valid**\n",
    "\n",
    " - 123abc   = 34\n",
    " \n",
    "    **invalid**\n",
    " \n",
    " - my variable   =6.7\n",
    "\n",
    "    **valid**\n",
    "\n",
    " - @count  = \"hi\"     \n",
    " \n",
    "    **invalid**\n",
    " \n",
    " - for   = \"True\"\n",
    " \n",
    "    **invalid**\n",
    " \n",
    "\n",
    "* Name123 = 136\n",
    "\n",
    "   **valid**\n",
    "\n",
    "* myFunction = True\n",
    "\n",
    "   **invalid**\n",
    "\n",
    "* _data = False\n",
    "\n",
    "   **invalid**\n",
    "\n",
    "- if_condition? = \"Innomatics\"\n",
    "\n",
    "   **invalid**\n",
    "\n",
    "- class = \"Hyderabad\"\n",
    "\n",
    "  **invalid**"
   ]
  },
  {
   "cell_type": "markdown",
   "id": "35c32a6f",
   "metadata": {},
   "source": [
    "### Use different identifiers and assign the below values"
   ]
  },
  {
   "cell_type": "markdown",
   "id": "d606e5ac",
   "metadata": {},
   "source": [
    "10\n",
    "\n",
    "-5\n",
    "\n",
    "3.14159\n",
    "\n",
    "-0.12345\n",
    "\n",
    "1000\n",
    "\n",
    "\"Hello, World!\"\n",
    "\n",
    "\"Python\"\n",
    "\n",
    "\"I am learning\"\n",
    "\n",
    "\"Text type\"\n",
    "\n",
    "\"String\"\n",
    "\n",
    "True\n",
    "\n",
    "False\n",
    "\n",
    "True\n",
    "\n",
    "False\n",
    "\n",
    "True\n",
    "\n"
   ]
  },
  {
   "cell_type": "code",
   "execution_count": 1,
   "id": "a8ce7a79",
   "metadata": {},
   "outputs": [],
   "source": [
    "int = 10"
   ]
  },
  {
   "cell_type": "code",
   "execution_count": 2,
   "id": "4aef0968",
   "metadata": {},
   "outputs": [],
   "source": [
    "z = -5"
   ]
  },
  {
   "cell_type": "code",
   "execution_count": 3,
   "id": "740bc0db",
   "metadata": {},
   "outputs": [],
   "source": [
    "float = 3.14159"
   ]
  },
  {
   "cell_type": "code",
   "execution_count": 4,
   "id": "abb83153",
   "metadata": {},
   "outputs": [],
   "source": [
    "f = -0.12345"
   ]
  },
  {
   "cell_type": "code",
   "execution_count": 5,
   "id": "a23dbecf",
   "metadata": {},
   "outputs": [],
   "source": [
    "num = 1000"
   ]
  },
  {
   "cell_type": "code",
   "execution_count": 6,
   "id": "e54151a3",
   "metadata": {},
   "outputs": [],
   "source": [
    "str = \"Hello,World!\""
   ]
  },
  {
   "cell_type": "code",
   "execution_count": 8,
   "id": "f35d27de",
   "metadata": {},
   "outputs": [],
   "source": [
    "course = \"python\""
   ]
  },
  {
   "cell_type": "code",
   "execution_count": 9,
   "id": "74143c2a",
   "metadata": {},
   "outputs": [],
   "source": [
    "char = \"I am learning\""
   ]
  },
  {
   "cell_type": "code",
   "execution_count": 10,
   "id": "c77ce72e",
   "metadata": {},
   "outputs": [],
   "source": [
    "var = \"Text type\""
   ]
  },
  {
   "cell_type": "code",
   "execution_count": 11,
   "id": "cb2b591b",
   "metadata": {},
   "outputs": [],
   "source": [
    "input = \"string\""
   ]
  },
  {
   "cell_type": "code",
   "execution_count": 12,
   "id": "0ad3e08e",
   "metadata": {},
   "outputs": [],
   "source": [
    "boolean = True"
   ]
  },
  {
   "cell_type": "code",
   "execution_count": 13,
   "id": "6344a626",
   "metadata": {},
   "outputs": [],
   "source": [
    "condition = False"
   ]
  },
  {
   "cell_type": "code",
   "execution_count": 15,
   "id": "350e3749",
   "metadata": {},
   "outputs": [],
   "source": [
    "type_1 = True"
   ]
  },
  {
   "cell_type": "code",
   "execution_count": 16,
   "id": "66eb2baf",
   "metadata": {},
   "outputs": [],
   "source": [
    "type_2 = False"
   ]
  },
  {
   "cell_type": "code",
   "execution_count": 17,
   "id": "0df94cc9",
   "metadata": {},
   "outputs": [],
   "source": [
    "char_123 = True"
   ]
  },
  {
   "cell_type": "code",
   "execution_count": null,
   "id": "876c4101",
   "metadata": {},
   "outputs": [],
   "source": []
  }
 ],
 "metadata": {
  "kernelspec": {
   "display_name": "Python 3 (ipykernel)",
   "language": "python",
   "name": "python3"
  },
  "language_info": {
   "codemirror_mode": {
    "name": "ipython",
    "version": 3
   },
   "file_extension": ".py",
   "mimetype": "text/x-python",
   "name": "python",
   "nbconvert_exporter": "python",
   "pygments_lexer": "ipython3",
   "version": "3.11.4"
  }
 },
 "nbformat": 4,
 "nbformat_minor": 5
}
